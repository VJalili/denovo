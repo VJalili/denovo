{
  "nbformat": 4,
  "nbformat_minor": 0,
  "metadata": {
    "colab": {
      "provenance": [],
      "authorship_tag": "ABX9TyPPMjrm6wyTp81Tra9dC7IV",
      "include_colab_link": true
    },
    "kernelspec": {
      "name": "python3",
      "display_name": "Python 3"
    },
    "language_info": {
      "name": "python"
    }
  },
  "cells": [
    {
      "cell_type": "markdown",
      "metadata": {
        "id": "view-in-github",
        "colab_type": "text"
      },
      "source": [
        "<a href=\"https://colab.research.google.com/github/VJalili/denovo/blob/main/denovo_filtering_v2.ipynb\" target=\"_parent\"><img src=\"https://colab.research.google.com/assets/colab-badge.svg\" alt=\"Open In Colab\"/></a>"
      ]
    },
    {
      "cell_type": "code",
      "execution_count": 158,
      "metadata": {
        "id": "NErfC2fWedEc"
      },
      "outputs": [],
      "source": [
        "# !gcloud init"
      ]
    },
    {
      "cell_type": "code",
      "source": [
        "import os\n",
        "import pandas as pd\n",
        "import gzip\n",
        "\n",
        "from dataclasses import dataclass, field\n",
        "from google.cloud import storage\n",
        "from typing import Callable, Any, Dict, Tuple, List"
      ],
      "metadata": {
        "id": "qIGv0QE_SUGk"
      },
      "execution_count": 159,
      "outputs": []
    },
    {
      "cell_type": "code",
      "source": [
        "storage_client = storage.Client(project=\"broad-dsde-methods\")\n",
        "\n",
        "# This method uses the Google cloud storage library which performs faster\n",
        "# calling gsutil using `check_output`.\n",
        "def download_blob(bucket_name, blob_name, local_filename):\n",
        "  bucket = storage_client.get_bucket(bucket_name)\n",
        "  blob = bucket.blob(blob_name)\n",
        "  blob.download_to_filename(local_filename)\n",
        "\n",
        "def copy_object_to_bucket(bucket_name, blob_name, source_filename):\n",
        "  bucket = storage_client.get_bucket(bucket_name)\n",
        "  blob = bucket.blob(blob_name)\n",
        "  blob.upload_from_filename(source_filename)"
      ],
      "metadata": {
        "id": "vayyxfXmSN1U"
      },
      "execution_count": 160,
      "outputs": []
    },
    {
      "cell_type": "code",
      "source": [
        "working_dir = os.path.join(\".\", \"denovo\")\n",
        "if not os.path.exists(working_dir):\n",
        "  os.makedirs(working_dir)"
      ],
      "metadata": {
        "id": "LN9DqsliSRus"
      },
      "execution_count": 161,
      "outputs": []
    },
    {
      "cell_type": "code",
      "source": [
        "def resolve_filename(filename):\n",
        "  local_filename = os.path.join(working_dir, filename)\n",
        "  if not os.path.isfile(local_filename):\n",
        "    download_blob(\"broad-dsde-methods-vj\", f\"denovo-sv/{filename}\", local_filename)\n",
        "    print(f\"Localized {filename}\")\n",
        "  else:\n",
        "    print(f\"File is already localized, filename: {local_filename}\")\n",
        "  return local_filename\n",
        "\n",
        "denovo_svs_filename = resolve_filename(\"GMKF-OFC-denovo-SV-Master-20240314.txt\")"
      ],
      "metadata": {
        "colab": {
          "base_uri": "https://localhost:8080/"
        },
        "id": "lnVvxuUASYou",
        "outputId": "c0d84f37-e69d-4cd2-9e00-7e1a0ddc134a"
      },
      "execution_count": 162,
      "outputs": [
        {
          "output_type": "stream",
          "name": "stdout",
          "text": [
            "File is already localized, filename: ./denovo/GMKF-OFC-denovo-SV-Master-20240314.txt\n"
          ]
        }
      ]
    },
    {
      "cell_type": "code",
      "source": [
        "df = pd.read_csv(denovo_svs_filename, sep=\"\\t\")\n",
        "df.shape"
      ],
      "metadata": {
        "colab": {
          "base_uri": "https://localhost:8080/"
        },
        "id": "JNNy5ixAeYwP",
        "outputId": "afa3f94f-4dd5-4723-b207-b35e9f72a1e3"
      },
      "execution_count": 163,
      "outputs": [
        {
          "output_type": "stream",
          "name": "stderr",
          "text": [
            "<ipython-input-163-85ce913434f7>:1: DtypeWarning: Columns (106,107,114,115,126,130) have mixed types. Specify dtype option on import or set low_memory=False.\n",
            "  df = pd.read_csv(denovo_svs_filename, sep=\"\\t\")\n"
          ]
        },
        {
          "output_type": "execute_result",
          "data": {
            "text/plain": [
              "(20235, 145)"
            ]
          },
          "metadata": {},
          "execution_count": 163
        }
      ]
    },
    {
      "cell_type": "code",
      "source": [
        "# Columns that need casting, use the above print for the list of columns.\n",
        "cols = df.columns\n",
        "print(f\"{cols[106]}\\t{cols[107]}\\t{cols[114]}\\t{cols[115]}\\t{cols[126]}\\t{cols[130]}\")"
      ],
      "metadata": {
        "colab": {
          "base_uri": "https://localhost:8080/"
        },
        "id": "bDSCDkUbAIMA",
        "outputId": "208086d0-875f-4617-b2e5-30cbb094061f"
      },
      "execution_count": 164,
      "outputs": [
        {
          "output_type": "stream",
          "name": "stdout",
          "text": [
            "RD_CN\tRD_GQ\tpaternal_rdcn\tmaternal_rdcn\tmedian_coverage\tis_de_novo\n"
          ]
        }
      ]
    },
    {
      "cell_type": "code",
      "source": [
        "columns_to_drop = [\n",
        "    \"Path\", \"sample\", \"samples\", \"CHR2\", \"END\", \"END2\", \"SOURCE\",\n",
        "    \"name\", \"STRANDS\",\n",
        "    \"PREDICTED_COPY_GAIN\",\n",
        "    \"PREDICTED_BREAKEND_EXONIC\",\n",
        "    \"PREDICTED_DUP_PARTIAL\",\n",
        "    \"PREDICTED_INTRAGENIC_EXON_DUP\",\n",
        "    \"PREDICTED_INV_SPAN\",\n",
        "    \"PREDICTED_LOF\",\n",
        "    \"PREDICTED_MSV_EXON_OVERLAP\",\n",
        "    \"PREDICTED_NEAREST_TSS\",\n",
        "    \"PREDICTED_PARTIAL_EXON_DUP\",\n",
        "    \"PREDICTED_PROMOTER\",\n",
        "    \"PREDICTED_TSS_DUP\",\n",
        "    \"PREDICTED_UTR\",\n",
        "    \"UNRESOLVED_TYPE\"]\n",
        "df = df.drop(columns=columns_to_drop)"
      ],
      "metadata": {
        "id": "TjRqZiEqnfBW"
      },
      "execution_count": 165,
      "outputs": []
    },
    {
      "cell_type": "code",
      "source": [
        "df[\"RD_CN\"] = pd.to_numeric(df[\"RD_CN\"], errors=\"coerce\")\n",
        "df[\"RD_GQ\"] = pd.to_numeric(df[\"RD_GQ\"], errors=\"coerce\")\n",
        "df[\"paternal_rdcn\"] = pd.to_numeric(df[\"paternal_rdcn\"], errors=\"coerce\")\n",
        "df[\"maternal_rdcn\"] = pd.to_numeric(df[\"maternal_rdcn\"], errors=\"coerce\")\n",
        "df[\"median_coverage\"] = pd.to_numeric(df[\"median_coverage\"], errors=\"coerce\")\n",
        "df[\"is_de_novo\"] = df[\"is_de_novo\"].astype(\"bool\")"
      ],
      "metadata": {
        "id": "BC5ZeKYV21xf"
      },
      "execution_count": 166,
      "outputs": []
    },
    {
      "cell_type": "code",
      "source": [
        "dtypes = df.dtypes\n",
        "for i in range(len(dtypes)):\n",
        "  print(f\"{i}\\t{dtypes[i]}\\t{df.columns[i]}\")"
      ],
      "metadata": {
        "colab": {
          "base_uri": "https://localhost:8080/"
        },
        "id": "aNk3Nk8ncM9k",
        "outputId": "3dfd377e-5a45-4baf-cccb-f2925561bbd3"
      },
      "execution_count": 167,
      "outputs": [
        {
          "output_type": "stream",
          "name": "stdout",
          "text": [
            "0\tobject\tchrom\n",
            "1\tint64\tstart\n",
            "2\tint64\tend\n",
            "3\tobject\tsvtype\n",
            "4\tint64\tAC\n",
            "5\tobject\tALGORITHMS\n",
            "6\tint64\tAN\n",
            "7\tobject\tCPX_INTERVALS\n",
            "8\tobject\tCPX_TYPE\n",
            "9\tobject\tEVIDENCE\n",
            "10\tbool\tPREDICTED_INTERGENIC\n",
            "11\tobject\tPREDICTED_INTRONIC\n",
            "12\tobject\tPREDICTED_NONCODING_BREAKPOINT\n",
            "13\tobject\tPREDICTED_NONCODING_SPAN\n",
            "14\tint64\tSVLEN\n",
            "15\tobject\tSVTYPE\n",
            "16\tfloat64\tAF\n",
            "17\tint64\tN_BI_GENOS\n",
            "18\tint64\tN_HOMREF\n",
            "19\tint64\tN_HET\n",
            "20\tint64\tN_HOMALT\n",
            "21\tfloat64\tFREQ_HOMREF\n",
            "22\tfloat64\tFREQ_HET\n",
            "23\tfloat64\tFREQ_HOMALT\n",
            "24\tfloat64\tCN_NUMBER\n",
            "25\tfloat64\tCN_COUNT\n",
            "26\tfloat64\tCN_FREQ\n",
            "27\tfloat64\tCN_NONREF_COUNT\n",
            "28\tfloat64\tCN_NONREF_FREQ\n",
            "29\tint64\tMALE_AN\n",
            "30\tint64\tMALE_AC\n",
            "31\tfloat64\tMALE_AF\n",
            "32\tint64\tMALE_N_BI_GENOS\n",
            "33\tint64\tMALE_N_HOMREF\n",
            "34\tint64\tMALE_N_HET\n",
            "35\tint64\tMALE_N_HOMALT\n",
            "36\tfloat64\tMALE_FREQ_HOMREF\n",
            "37\tfloat64\tMALE_FREQ_HET\n",
            "38\tfloat64\tMALE_FREQ_HOMALT\n",
            "39\tfloat64\tMALE_CN_NUMBER\n",
            "40\tfloat64\tMALE_CN_COUNT\n",
            "41\tfloat64\tMALE_CN_FREQ\n",
            "42\tfloat64\tMALE_CN_NONREF_COUNT\n",
            "43\tfloat64\tMALE_CN_NONREF_FREQ\n",
            "44\tfloat64\tMALE_N_HEMIREF\n",
            "45\tfloat64\tMALE_N_HEMIALT\n",
            "46\tfloat64\tMALE_FREQ_HEMIREF\n",
            "47\tfloat64\tMALE_FREQ_HEMIALT\n",
            "48\tint64\tFEMALE_AN\n",
            "49\tint64\tFEMALE_AC\n",
            "50\tfloat64\tFEMALE_AF\n",
            "51\tint64\tFEMALE_N_BI_GENOS\n",
            "52\tint64\tFEMALE_N_HOMREF\n",
            "53\tint64\tFEMALE_N_HET\n",
            "54\tint64\tFEMALE_N_HOMALT\n",
            "55\tfloat64\tFEMALE_FREQ_HOMREF\n",
            "56\tfloat64\tFEMALE_FREQ_HET\n",
            "57\tfloat64\tFEMALE_FREQ_HOMALT\n",
            "58\tfloat64\tFEMALE_CN_NUMBER\n",
            "59\tfloat64\tFEMALE_CN_COUNT\n",
            "60\tfloat64\tFEMALE_CN_FREQ\n",
            "61\tfloat64\tFEMALE_CN_NONREF_COUNT\n",
            "62\tfloat64\tFEMALE_CN_NONREF_FREQ\n",
            "63\tobject\tgnomad_v2.1_sv_SVID\n",
            "64\tfloat64\tgnomad_v2.1_sv_AF\n",
            "65\tfloat64\tgnomad_v2.1_sv_AFR_AF\n",
            "66\tfloat64\tgnomad_v2.1_sv_AMR_AF\n",
            "67\tfloat64\tgnomad_v2.1_sv_EAS_AF\n",
            "68\tfloat64\tgnomad_v2.1_sv_EUR_AF\n",
            "69\tobject\tFILTER\n",
            "70\tint64\tnum_children\n",
            "71\tint64\tnum_parents\n",
            "72\tfloat64\tAF_parents\n",
            "73\tbool\tis_large_cnv\n",
            "74\tbool\tis_small_cnv\n",
            "75\tbool\tis_depth_only\n",
            "76\tbool\tis_depth_only_small\n",
            "77\tbool\tin_gd\n",
            "78\tobject\tfamily_id\n",
            "79\tobject\tname_famid\n",
            "80\tint64\tnum_parents_family\n",
            "81\tobject\tGT\n",
            "82\tobject\tEV\n",
            "83\tint64\tGQ\n",
            "84\tfloat64\tRD_CN\n",
            "85\tfloat64\tRD_GQ\n",
            "86\tobject\tPE_GQ\n",
            "87\tobject\tPE_GT\n",
            "88\tobject\tSR_GQ\n",
            "89\tobject\tSR_GT\n",
            "90\tint64\tpaternal_gq\n",
            "91\tint64\tmaternal_gq\n",
            "92\tfloat64\tpaternal_rdcn\n",
            "93\tfloat64\tmaternal_rdcn\n",
            "94\tobject\tpaternal_pegq\n",
            "95\tobject\tmaternal_pegq\n",
            "96\tobject\tpaternal_srgq\n",
            "97\tobject\tmaternal_srgq\n",
            "98\tbool\toverlap_parent\n",
            "99\tobject\tEVIDENCE_FIX\n",
            "100\tbool\tcontains_RD\n",
            "101\tobject\tchrom_type_sample\n",
            "102\tobject\tchrom_type_family\n",
            "103\tobject\tkeep_gq\n",
            "104\tfloat64\tmedian_coverage\n",
            "105\tbool\tis_cpx\n",
            "106\tbool\tis_duplicated\n",
            "107\tobject\tbatch\n",
            "108\tbool\tis_de_novo\n",
            "109\tobject\tfilter_flag\n",
            "110\tobject\tcohort\n",
            "111\tobject\tID\n",
            "112\tobject\tsample_name\n",
            "113\tobject\tresult\n",
            "114\tobject\tReason_unsure_follow_up\n",
            "115\tobject\tNotes\n",
            "116\tobject\treviewers\n",
            "117\tobject\ttiebreaker_reviewed\n",
            "118\tfloat64\tnum_reviewers\n",
            "119\tobject\ttiebreaker_reviewer\n",
            "120\tobject\ttiebreaker_result\n",
            "121\tbool\tSV_plots_reviewed\n",
            "122\tobject\tresult_final\n"
          ]
        }
      ]
    },
    {
      "cell_type": "code",
      "source": [
        "# df[\"PREDICTED_COPY_GAIN\"].dtype"
      ],
      "metadata": {
        "id": "YWgCFEPDo55j"
      },
      "execution_count": 168,
      "outputs": []
    },
    {
      "cell_type": "code",
      "source": [
        "df[\"UNRESOLVED_TYPE\"].value_counts()"
      ],
      "metadata": {
        "colab": {
          "base_uri": "https://localhost:8080/",
          "height": 478
        },
        "id": "aL4uPPt2dOj0",
        "outputId": "7df9e0c5-e0ac-4f1c-d4d4-a137d8822ea4"
      },
      "execution_count": 169,
      "outputs": [
        {
          "output_type": "error",
          "ename": "KeyError",
          "evalue": "'UNRESOLVED_TYPE'",
          "traceback": [
            "\u001b[0;31m---------------------------------------------------------------------------\u001b[0m",
            "\u001b[0;31mKeyError\u001b[0m                                  Traceback (most recent call last)",
            "\u001b[0;32m/usr/local/lib/python3.10/dist-packages/pandas/core/indexes/base.py\u001b[0m in \u001b[0;36mget_loc\u001b[0;34m(self, key, method, tolerance)\u001b[0m\n\u001b[1;32m   3801\u001b[0m             \u001b[0;32mtry\u001b[0m\u001b[0;34m:\u001b[0m\u001b[0;34m\u001b[0m\u001b[0;34m\u001b[0m\u001b[0m\n\u001b[0;32m-> 3802\u001b[0;31m                 \u001b[0;32mreturn\u001b[0m \u001b[0mself\u001b[0m\u001b[0;34m.\u001b[0m\u001b[0m_engine\u001b[0m\u001b[0;34m.\u001b[0m\u001b[0mget_loc\u001b[0m\u001b[0;34m(\u001b[0m\u001b[0mcasted_key\u001b[0m\u001b[0;34m)\u001b[0m\u001b[0;34m\u001b[0m\u001b[0;34m\u001b[0m\u001b[0m\n\u001b[0m\u001b[1;32m   3803\u001b[0m             \u001b[0;32mexcept\u001b[0m \u001b[0mKeyError\u001b[0m \u001b[0;32mas\u001b[0m \u001b[0merr\u001b[0m\u001b[0;34m:\u001b[0m\u001b[0;34m\u001b[0m\u001b[0;34m\u001b[0m\u001b[0m\n",
            "\u001b[0;32m/usr/local/lib/python3.10/dist-packages/pandas/_libs/index.pyx\u001b[0m in \u001b[0;36mpandas._libs.index.IndexEngine.get_loc\u001b[0;34m()\u001b[0m\n",
            "\u001b[0;32m/usr/local/lib/python3.10/dist-packages/pandas/_libs/index.pyx\u001b[0m in \u001b[0;36mpandas._libs.index.IndexEngine.get_loc\u001b[0;34m()\u001b[0m\n",
            "\u001b[0;32mpandas/_libs/hashtable_class_helper.pxi\u001b[0m in \u001b[0;36mpandas._libs.hashtable.PyObjectHashTable.get_item\u001b[0;34m()\u001b[0m\n",
            "\u001b[0;32mpandas/_libs/hashtable_class_helper.pxi\u001b[0m in \u001b[0;36mpandas._libs.hashtable.PyObjectHashTable.get_item\u001b[0;34m()\u001b[0m\n",
            "\u001b[0;31mKeyError\u001b[0m: 'UNRESOLVED_TYPE'",
            "\nThe above exception was the direct cause of the following exception:\n",
            "\u001b[0;31mKeyError\u001b[0m                                  Traceback (most recent call last)",
            "\u001b[0;32m<ipython-input-169-4a1a8fcd4ee3>\u001b[0m in \u001b[0;36m<cell line: 1>\u001b[0;34m()\u001b[0m\n\u001b[0;32m----> 1\u001b[0;31m \u001b[0mdf\u001b[0m\u001b[0;34m[\u001b[0m\u001b[0;34m\"UNRESOLVED_TYPE\"\u001b[0m\u001b[0;34m]\u001b[0m\u001b[0;34m.\u001b[0m\u001b[0mvalue_counts\u001b[0m\u001b[0;34m(\u001b[0m\u001b[0;34m)\u001b[0m\u001b[0;34m\u001b[0m\u001b[0;34m\u001b[0m\u001b[0m\n\u001b[0m",
            "\u001b[0;32m/usr/local/lib/python3.10/dist-packages/pandas/core/frame.py\u001b[0m in \u001b[0;36m__getitem__\u001b[0;34m(self, key)\u001b[0m\n\u001b[1;32m   3805\u001b[0m             \u001b[0;32mif\u001b[0m \u001b[0mself\u001b[0m\u001b[0;34m.\u001b[0m\u001b[0mcolumns\u001b[0m\u001b[0;34m.\u001b[0m\u001b[0mnlevels\u001b[0m \u001b[0;34m>\u001b[0m \u001b[0;36m1\u001b[0m\u001b[0;34m:\u001b[0m\u001b[0;34m\u001b[0m\u001b[0;34m\u001b[0m\u001b[0m\n\u001b[1;32m   3806\u001b[0m                 \u001b[0;32mreturn\u001b[0m \u001b[0mself\u001b[0m\u001b[0;34m.\u001b[0m\u001b[0m_getitem_multilevel\u001b[0m\u001b[0;34m(\u001b[0m\u001b[0mkey\u001b[0m\u001b[0;34m)\u001b[0m\u001b[0;34m\u001b[0m\u001b[0;34m\u001b[0m\u001b[0m\n\u001b[0;32m-> 3807\u001b[0;31m             \u001b[0mindexer\u001b[0m \u001b[0;34m=\u001b[0m \u001b[0mself\u001b[0m\u001b[0;34m.\u001b[0m\u001b[0mcolumns\u001b[0m\u001b[0;34m.\u001b[0m\u001b[0mget_loc\u001b[0m\u001b[0;34m(\u001b[0m\u001b[0mkey\u001b[0m\u001b[0;34m)\u001b[0m\u001b[0;34m\u001b[0m\u001b[0;34m\u001b[0m\u001b[0m\n\u001b[0m\u001b[1;32m   3808\u001b[0m             \u001b[0;32mif\u001b[0m \u001b[0mis_integer\u001b[0m\u001b[0;34m(\u001b[0m\u001b[0mindexer\u001b[0m\u001b[0;34m)\u001b[0m\u001b[0;34m:\u001b[0m\u001b[0;34m\u001b[0m\u001b[0;34m\u001b[0m\u001b[0m\n\u001b[1;32m   3809\u001b[0m                 \u001b[0mindexer\u001b[0m \u001b[0;34m=\u001b[0m \u001b[0;34m[\u001b[0m\u001b[0mindexer\u001b[0m\u001b[0;34m]\u001b[0m\u001b[0;34m\u001b[0m\u001b[0;34m\u001b[0m\u001b[0m\n",
            "\u001b[0;32m/usr/local/lib/python3.10/dist-packages/pandas/core/indexes/base.py\u001b[0m in \u001b[0;36mget_loc\u001b[0;34m(self, key, method, tolerance)\u001b[0m\n\u001b[1;32m   3802\u001b[0m                 \u001b[0;32mreturn\u001b[0m \u001b[0mself\u001b[0m\u001b[0;34m.\u001b[0m\u001b[0m_engine\u001b[0m\u001b[0;34m.\u001b[0m\u001b[0mget_loc\u001b[0m\u001b[0;34m(\u001b[0m\u001b[0mcasted_key\u001b[0m\u001b[0;34m)\u001b[0m\u001b[0;34m\u001b[0m\u001b[0;34m\u001b[0m\u001b[0m\n\u001b[1;32m   3803\u001b[0m             \u001b[0;32mexcept\u001b[0m \u001b[0mKeyError\u001b[0m \u001b[0;32mas\u001b[0m \u001b[0merr\u001b[0m\u001b[0;34m:\u001b[0m\u001b[0;34m\u001b[0m\u001b[0;34m\u001b[0m\u001b[0m\n\u001b[0;32m-> 3804\u001b[0;31m                 \u001b[0;32mraise\u001b[0m \u001b[0mKeyError\u001b[0m\u001b[0;34m(\u001b[0m\u001b[0mkey\u001b[0m\u001b[0;34m)\u001b[0m \u001b[0;32mfrom\u001b[0m \u001b[0merr\u001b[0m\u001b[0;34m\u001b[0m\u001b[0;34m\u001b[0m\u001b[0m\n\u001b[0m\u001b[1;32m   3805\u001b[0m             \u001b[0;32mexcept\u001b[0m \u001b[0mTypeError\u001b[0m\u001b[0;34m:\u001b[0m\u001b[0;34m\u001b[0m\u001b[0;34m\u001b[0m\u001b[0m\n\u001b[1;32m   3806\u001b[0m                 \u001b[0;31m# If we have a listlike key, _check_indexing_error will raise\u001b[0m\u001b[0;34m\u001b[0m\u001b[0;34m\u001b[0m\u001b[0m\n",
            "\u001b[0;31mKeyError\u001b[0m: 'UNRESOLVED_TYPE'"
          ]
        }
      ]
    },
    {
      "cell_type": "code",
      "source": [
        "df[\"UNRESOLVED_TYPE\"]"
      ],
      "metadata": {
        "id": "vaknUWzqznSM"
      },
      "execution_count": null,
      "outputs": []
    },
    {
      "cell_type": "code",
      "source": [
        "df[\"RD_CN\"].max()"
      ],
      "metadata": {
        "id": "QTCrMFeODTaS"
      },
      "execution_count": null,
      "outputs": []
    },
    {
      "cell_type": "code",
      "source": [
        "df[\"RD_CN\"].hist()"
      ],
      "metadata": {
        "id": "dADs5jKlA6q4"
      },
      "execution_count": null,
      "outputs": []
    },
    {
      "cell_type": "code",
      "source": [
        "rd_cn_df = df[df[\"RD_CN\"] > 100]\n",
        "rd_cn_df.shape"
      ],
      "metadata": {
        "id": "Nq7PjFqWW59S"
      },
      "execution_count": null,
      "outputs": []
    },
    {
      "cell_type": "code",
      "source": [
        "rd_cn_df"
      ],
      "metadata": {
        "id": "tWjAWJcmXHcX"
      },
      "execution_count": null,
      "outputs": []
    }
  ]
}