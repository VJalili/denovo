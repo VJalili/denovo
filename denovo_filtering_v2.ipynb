{
  "nbformat": 4,
  "nbformat_minor": 0,
  "metadata": {
    "colab": {
      "provenance": [],
      "authorship_tag": "ABX9TyMAwavTfIKYiJoVxZhGf0pX",
      "include_colab_link": true
    },
    "kernelspec": {
      "name": "python3",
      "display_name": "Python 3"
    },
    "language_info": {
      "name": "python"
    }
  },
  "cells": [
    {
      "cell_type": "markdown",
      "metadata": {
        "id": "view-in-github",
        "colab_type": "text"
      },
      "source": [
        "<a href=\"https://colab.research.google.com/github/VJalili/denovo/blob/main/denovo_filtering_v2.ipynb\" target=\"_parent\"><img src=\"https://colab.research.google.com/assets/colab-badge.svg\" alt=\"Open In Colab\"/></a>"
      ]
    },
    {
      "cell_type": "code",
      "execution_count": 1,
      "metadata": {
        "id": "NErfC2fWedEc"
      },
      "outputs": [],
      "source": [
        "# !gcloud init"
      ]
    },
    {
      "cell_type": "code",
      "source": [
        "# !gcloud auth application-default login"
      ],
      "metadata": {
        "id": "KJyLeiaKhE_Y"
      },
      "execution_count": 2,
      "outputs": []
    },
    {
      "cell_type": "code",
      "source": [
        "# !pip install pysam"
      ],
      "metadata": {
        "id": "drLpj50Jt_ck"
      },
      "execution_count": 3,
      "outputs": []
    },
    {
      "cell_type": "code",
      "source": [
        "import math\n",
        "import os\n",
        "import numpy as np\n",
        "import pandas as pd\n",
        "import gzip\n",
        "\n",
        "from dataclasses import dataclass, field\n",
        "from google.cloud import storage\n",
        "from pathlib import Path\n",
        "from typing import Callable, Any, Dict, Tuple, List\n",
        "from sklearn.preprocessing import MultiLabelBinarizer\n",
        "from sklearn.impute import SimpleImputer\n",
        "\n",
        "from pysam import VariantFile\n",
        "from tqdm import tqdm\n",
        "import copy"
      ],
      "metadata": {
        "id": "qIGv0QE_SUGk"
      },
      "execution_count": 4,
      "outputs": []
    },
    {
      "cell_type": "code",
      "source": [
        "storage_client = storage.Client(project=\"broad-dsde-methods\")\n",
        "\n",
        "# This method uses the Google cloud storage library which performs faster\n",
        "# calling gsutil using `check_output`.\n",
        "def download_blob(bucket_name, blob_name, local_filename):\n",
        "  bucket = storage_client.get_bucket(bucket_name)\n",
        "  blob = bucket.blob(blob_name)\n",
        "  blob.download_to_filename(local_filename)\n",
        "\n",
        "def copy_object_to_bucket(bucket_name, blob_name, source_filename):\n",
        "  bucket = storage_client.get_bucket(bucket_name)\n",
        "  blob = bucket.blob(blob_name)\n",
        "  blob.upload_from_filename(source_filename)"
      ],
      "metadata": {
        "id": "vayyxfXmSN1U"
      },
      "execution_count": 5,
      "outputs": []
    },
    {
      "cell_type": "code",
      "source": [
        "working_dir = os.path.join(\".\", \"denovo\")\n",
        "if not os.path.exists(working_dir):\n",
        "  os.makedirs(working_dir)"
      ],
      "metadata": {
        "id": "LN9DqsliSRus"
      },
      "execution_count": 6,
      "outputs": []
    },
    {
      "cell_type": "code",
      "source": [
        "skip_retrieving_missing_measurements = False"
      ],
      "metadata": {
        "id": "_V8GbX6MTodo"
      },
      "execution_count": 7,
      "outputs": []
    },
    {
      "cell_type": "code",
      "source": [
        "bucket_name = \"broad-dsde-methods-vj\"\n",
        "base_blob_name = \"denovo-sv\"\n",
        "def resolve_filename(filename):\n",
        "  local_filename = os.path.join(working_dir, filename)\n",
        "  if not os.path.isfile(local_filename):\n",
        "    download_blob(bucket_name, f\"{base_blob_name}/{filename}\", local_filename)\n",
        "    print(f\"Localized {filename}\")\n",
        "  else:\n",
        "    print(f\"File is already localized, filename: {local_filename}\")\n",
        "  return local_filename\n",
        "\n",
        "filename = \"GMKF-OFC-GREGoR-denovo-SV-Master-20240918.txt\"\n",
        "denovo_svs_filename = resolve_filename(filename)"
      ],
      "metadata": {
        "colab": {
          "base_uri": "https://localhost:8080/"
        },
        "id": "lnVvxuUASYou",
        "outputId": "eda05eb6-af01-4e29-884e-67b9479aa21b"
      },
      "execution_count": 8,
      "outputs": [
        {
          "output_type": "stream",
          "name": "stdout",
          "text": [
            "File is already localized, filename: ./denovo/GMKF-OFC-GREGoR-denovo-SV-Master-20240918.txt\n"
          ]
        }
      ]
    },
    {
      "cell_type": "code",
      "source": [
        "vcf_files = [\"mg_batch20.annotated.vcf.gz\",\n",
        "             \"m4_batch03.annotated.vcf.gz\",\n",
        "             \"m2_batch11.annotated.vcf.gz\",\n",
        "             \"m2_batch10.annotated.vcf.gz\",\n",
        "             \"mg_batch13.annotated.vcf.gz\",\n",
        "             \"mg_batch03.annotated.vcf.gz\",\n",
        "             \"mg_batch05.annotated.vcf.gz\",\n",
        "             \"mg_batch17.annotated.vcf.gz\",\n",
        "             \"mg_batch08.annotated.vcf.gz\",\n",
        "             \"mg_batch07.annotated.vcf.gz\",\n",
        "             \"second_run_cp_cohort.annotated.vcf.gz\",\n",
        "             \"phase4_all_batches.annotated.vcf.gz\"]\n",
        "vcf_filenames = []\n",
        "for vcf_file in vcf_files:\n",
        "  vcf_filenames.append(resolve_filename(vcf_file))\n",
        "  resolve_filename(vcf_file + \".tbi\")"
      ],
      "metadata": {
        "colab": {
          "base_uri": "https://localhost:8080/"
        },
        "id": "WJ34to9KgXfw",
        "outputId": "5b7ab094-6ed3-4069-87f2-0ad22d5162e3"
      },
      "execution_count": 9,
      "outputs": [
        {
          "output_type": "stream",
          "name": "stdout",
          "text": [
            "File is already localized, filename: ./denovo/mg_batch20.annotated.vcf.gz\n",
            "File is already localized, filename: ./denovo/mg_batch20.annotated.vcf.gz.tbi\n",
            "File is already localized, filename: ./denovo/m4_batch03.annotated.vcf.gz\n",
            "File is already localized, filename: ./denovo/m4_batch03.annotated.vcf.gz.tbi\n",
            "File is already localized, filename: ./denovo/m2_batch11.annotated.vcf.gz\n",
            "File is already localized, filename: ./denovo/m2_batch11.annotated.vcf.gz.tbi\n",
            "File is already localized, filename: ./denovo/m2_batch10.annotated.vcf.gz\n",
            "File is already localized, filename: ./denovo/m2_batch10.annotated.vcf.gz.tbi\n",
            "File is already localized, filename: ./denovo/mg_batch13.annotated.vcf.gz\n",
            "File is already localized, filename: ./denovo/mg_batch13.annotated.vcf.gz.tbi\n",
            "File is already localized, filename: ./denovo/mg_batch03.annotated.vcf.gz\n",
            "File is already localized, filename: ./denovo/mg_batch03.annotated.vcf.gz.tbi\n",
            "File is already localized, filename: ./denovo/mg_batch05.annotated.vcf.gz\n",
            "File is already localized, filename: ./denovo/mg_batch05.annotated.vcf.gz.tbi\n",
            "File is already localized, filename: ./denovo/mg_batch17.annotated.vcf.gz\n",
            "File is already localized, filename: ./denovo/mg_batch17.annotated.vcf.gz.tbi\n",
            "File is already localized, filename: ./denovo/mg_batch08.annotated.vcf.gz\n",
            "File is already localized, filename: ./denovo/mg_batch08.annotated.vcf.gz.tbi\n",
            "File is already localized, filename: ./denovo/mg_batch07.annotated.vcf.gz\n",
            "File is already localized, filename: ./denovo/mg_batch07.annotated.vcf.gz.tbi\n",
            "File is already localized, filename: ./denovo/second_run_cp_cohort.annotated.vcf.gz\n",
            "File is already localized, filename: ./denovo/second_run_cp_cohort.annotated.vcf.gz.tbi\n",
            "File is already localized, filename: ./denovo/phase4_all_batches.annotated.vcf.gz\n",
            "File is already localized, filename: ./denovo/phase4_all_batches.annotated.vcf.gz.tbi\n"
          ]
        }
      ]
    },
    {
      "cell_type": "code",
      "source": [
        "df = pd.read_csv(denovo_svs_filename, sep=\"\\t\")\n",
        "df.shape"
      ],
      "metadata": {
        "colab": {
          "base_uri": "https://localhost:8080/"
        },
        "id": "JNNy5ixAeYwP",
        "outputId": "c34f4ccc-72c6-46cd-da62-ae08eda3777e"
      },
      "execution_count": 10,
      "outputs": [
        {
          "output_type": "stream",
          "name": "stderr",
          "text": [
            "<ipython-input-10-85ce913434f7>:1: DtypeWarning: Columns (85,106,107,114,115,126,130,133,135,136,137,138) have mixed types. Specify dtype option on import or set low_memory=False.\n",
            "  df = pd.read_csv(denovo_svs_filename, sep=\"\\t\")\n"
          ]
        },
        {
          "output_type": "execute_result",
          "data": {
            "text/plain": [
              "(29456, 160)"
            ]
          },
          "metadata": {},
          "execution_count": 10
        }
      ]
    },
    {
      "cell_type": "code",
      "source": [
        "vcfs = []\n",
        "for vcf_filename in vcf_filenames:\n",
        "  vcfs.append(VariantFile(vcf_filename))"
      ],
      "metadata": {
        "id": "bDSCDkUbAIMA"
      },
      "execution_count": 11,
      "outputs": []
    },
    {
      "cell_type": "code",
      "source": [
        "# cols = df.columns\n",
        "# for c in cols:\n",
        "#   print(c)"
      ],
      "metadata": {
        "id": "2hH7gDllZQpu"
      },
      "execution_count": 12,
      "outputs": []
    },
    {
      "cell_type": "code",
      "source": [
        "# Suggested by Alba\n",
        "print(f\"Before AF & any_error filter:\\t{df.shape}\")\n",
        "df = df[df[\"AF\"] <= 0.01]\n",
        "df = df[df[\"any_error\"] == False]\n",
        "print(f\"After AF & any_error filter:\\t{df.shape}\")"
      ],
      "metadata": {
        "colab": {
          "base_uri": "https://localhost:8080/"
        },
        "id": "VQFUBYsTnshy",
        "outputId": "4851ce3b-b68a-4725-8490-43a76a728b19"
      },
      "execution_count": 13,
      "outputs": [
        {
          "output_type": "stream",
          "name": "stdout",
          "text": [
            "Before AF & any_error filter:\t(29456, 160)\n",
            "After AF & any_error filter:\t(13773, 160)\n"
          ]
        }
      ]
    },
    {
      "cell_type": "code",
      "source": [
        "columns_to_drop = [\n",
        "    \"Path\",\n",
        "    # \"sample\",\n",
        "    \"samples\",\n",
        "    \"CHR2\",\n",
        "    \"END\",\n",
        "    \"END2\",\n",
        "    \"SOURCE\",\n",
        "    \"name\",\n",
        "    \"STRANDS\",\n",
        "    \"CPX_INTERVALS\",\n",
        "    \"PREDICTED_INTERGENIC\",\n",
        "    \"PREDICTED_INTRONIC\",\n",
        "    \"PREDICTED_INV_SPAN\",\n",
        "    \"PREDICTED_LOF\",\n",
        "    \"PREDICTED_MSV_EXON_OVERLAP\",\n",
        "    \"PREDICTED_NEAREST_TSS\",\n",
        "    \"PREDICTED_PARTIAL_EXON_DUP\",\n",
        "    \"PREDICTED_PROMOTER\",\n",
        "    \"PREDICTED_TSS_DUP\",\n",
        "    \"PREDICTED_UTR\",\n",
        "    \"PREDICTED_NONCODING_SPAN\",\n",
        "    \"SVTYPE\",\n",
        "    \"UNRESOLVED_TYPE\",\n",
        "    \"EVIDENCE_FIX\",\n",
        "    \"gnomad_v2.1_sv_SVID\",\n",
        "    \"is_small_cnv\",\n",
        "    \"family_id\",\n",
        "    \"name_famid\",\n",
        "    \"chrom_type_sample\",\n",
        "    \"chrom_type_family\",\n",
        "    \"is_cpx\",\n",
        "    \"is_duplicated\",\n",
        "    \"batch\",\n",
        "    \"cohort\",\n",
        "    \"ID\",\n",
        "    \"sample_name\",\n",
        "    \"result\",\n",
        "    \"Reason_unsure_follow_up\",\n",
        "    \"Notes\",\n",
        "    \"reviewers\",\n",
        "    \"tiebreaker_reviewed\",\n",
        "    \"num_reviewers\",\n",
        "    \"tiebreaker_reviewer\",\n",
        "    \"tiebreaker_result\",\n",
        "    \"SV_plots_reviewed\",\n",
        "    \"PREDICTED_COPY_GAIN\",\n",
        "    \"PREDICTED_BREAKEND_EXONIC\",\n",
        "    \"PREDICTED_DUP_PARTIAL\",\n",
        "    \"PREDICTED_INTRAGENIC_EXON_DUP\",\n",
        "    \"keep_gq\",\n",
        "    \"filter_flag\",\n",
        "    \"CN_NUMBER\",\n",
        "    \"CN_COUNT\",\n",
        "    \"CN_FREQ\",\n",
        "    \"CN_NONREF_COUNT\",\n",
        "    \"CN_NONREF_FREQ\",\n",
        "    \"MALE_CN_NUMBER\",\n",
        "    \"MALE_CN_COUNT\",\n",
        "    \"MALE_CN_FREQ\",\n",
        "    \"MALE_CN_NONREF_COUNT\",\n",
        "    \"MALE_CN_NONREF_FREQ\",\n",
        "    \"MALE_N_HEMIREF\",\n",
        "    \"MALE_N_HEMIALT\",\n",
        "    \"MALE_FREQ_HEMIREF\",\n",
        "    \"MALE_FREQ_HEMIALT\",\n",
        "    \"FEMALE_CN_NUMBER\",\n",
        "    \"FEMALE_CN_COUNT\",\n",
        "    \"FEMALE_CN_FREQ\",\n",
        "    \"FEMALE_CN_NONREF_COUNT\",\n",
        "    \"FEMALE_CN_NONREF_FREQ\",\n",
        "    \"is_de_novo\",\n",
        "    \"gnomAD_V2_SVID\",\n",
        "    \"gnomAD_V2_AF\",\n",
        "    \"gnomAD_V2_AC_AF\",\n",
        "    \"gnomAD_V2_AN_AF\",\n",
        "    \"gnomAD_V2_AFR_AF\",\n",
        "    \"gnomAD_V2_AMR_AF\",\n",
        "    \"gnomAD_V2_EAS_AF\",\n",
        "    \"gnomAD_V2_EUR_AF\",\n",
        "    \"any_error\",\n",
        "    \"median_coverage\"\n",
        "]\n",
        "df = df.drop(columns=columns_to_drop)"
      ],
      "metadata": {
        "id": "TjRqZiEqnfBW"
      },
      "execution_count": 14,
      "outputs": []
    },
    {
      "cell_type": "code",
      "source": [
        "df[\"RD_CN\"] = pd.to_numeric(df[\"RD_CN\"], errors=\"coerce\")\n",
        "df[\"RD_GQ\"] = pd.to_numeric(df[\"RD_GQ\"], errors=\"coerce\")\n",
        "df[\"paternal_rdcn\"] = pd.to_numeric(df[\"paternal_rdcn\"], errors=\"coerce\")\n",
        "df[\"maternal_rdcn\"] = pd.to_numeric(df[\"maternal_rdcn\"], errors=\"coerce\")"
      ],
      "metadata": {
        "id": "BC5ZeKYV21xf"
      },
      "execution_count": 15,
      "outputs": []
    },
    {
      "cell_type": "code",
      "source": [
        "df[\"result_final\"] = df[\"result_final\"].str.strip().str.lower().map({\"no_unsure\": False, \"yes\": True})"
      ],
      "metadata": {
        "id": "q2TRyqvQFu-s"
      },
      "execution_count": 16,
      "outputs": []
    },
    {
      "cell_type": "code",
      "source": [
        "df[\"result_final\"].value_counts(dropna=False)"
      ],
      "metadata": {
        "colab": {
          "base_uri": "https://localhost:8080/"
        },
        "id": "iX3gQc-yGDpV",
        "outputId": "f14fc9ef-4733-4f96-9041-d483c47026e8"
      },
      "execution_count": 17,
      "outputs": [
        {
          "output_type": "execute_result",
          "data": {
            "text/plain": [
              "result_final\n",
              "False    11603\n",
              "True      2170\n",
              "Name: count, dtype: int64"
            ]
          },
          "metadata": {},
          "execution_count": 17
        }
      ]
    },
    {
      "cell_type": "code",
      "source": [
        "def get_features_missing_info_dataframe(info_dict):\n",
        "  tuples = [(key, value[0], value[1] if len(value) == 2 else 0, (value[1] if len(value) == 2 else 0) - value[0]) for key, value in info_dict.items()]\n",
        "  return pd.DataFrame(tuples, columns=[\"Feature\", \"Before\", \"After\", \"Diff\"])"
      ],
      "metadata": {
        "id": "4OhyOUxo9po_"
      },
      "execution_count": 18,
      "outputs": []
    },
    {
      "cell_type": "code",
      "source": [
        "# Fetch data for missing site-level information from the VCF files.\n",
        "features_missing_info = {}\n",
        "for column in df.columns:\n",
        "  nan_count = df[column].isna().sum()\n",
        "  if nan_count > 0:\n",
        "    features_missing_info[column] = ([nan_count])\n",
        "\n",
        "missing_features_df = get_features_missing_info_dataframe(features_missing_info)\n",
        "# df = df.drop(columns=features_missing_info)"
      ],
      "metadata": {
        "id": "iXnMOcfxv36e"
      },
      "execution_count": 19,
      "outputs": []
    },
    {
      "cell_type": "code",
      "source": [
        "# df[\"svtype\"].value_counts(dropna=False)"
      ],
      "metadata": {
        "id": "11Tx682myCkc"
      },
      "execution_count": 20,
      "outputs": []
    },
    {
      "cell_type": "code",
      "source": [
        "# This piece is highly inefficient.\n",
        "\n",
        "def update_retrieving_missing_info(row):\n",
        "  start = row[\"start\"]\n",
        "  stop = row[\"end\"]\n",
        "  sample_id = row[\"sample\"]\n",
        "\n",
        "  cols_with_missing_features = row[row.isna()].index.tolist()\n",
        "  if len(cols_with_missing_features) == 0:\n",
        "    return row\n",
        "\n",
        "  d=False\n",
        "\n",
        "  for vcf in vcfs:\n",
        "    samples_in_vcf = list(vcf.header.samples)  # need to use this cos `sample_id in variant.samples` will through key error if sample does not exist in the vcf.\n",
        "    iterator = vcf.fetch(row[\"chrom\"], row[\"start\"], row[\"end\"])\n",
        "    for variant in iterator:\n",
        "      if variant.start == start and variant.stop == stop:\n",
        "        for c in cols_with_missing_features:\n",
        "          if variant.info is not None and c in variant.info and not pd.isna(variant.info[c]):\n",
        "            if row[c] is None or pd.isna(row[c]):\n",
        "              row[c] = variant.info[c]\n",
        "          elif sample_id in samples_in_vcf and c in variant.samples[sample_id]:\n",
        "            v = variant.samples[sample_id][c]\n",
        "            if v is not None and not pd.isna(v):\n",
        "              if row[c] is None or pd.isna(row[c]):\n",
        "                row[c] = v\n",
        "        break\n",
        "  return row\n",
        "\n",
        "#df = df.apply(update_retrieving_missing_info, axis=1)\n",
        "new_rows = []\n",
        "if not skip_retrieving_missing_measurements:\n",
        "  for _, row in tqdm(df.iterrows(), total=df.shape[0]):\n",
        "      new_row = update_retrieving_missing_info(row)\n",
        "      new_rows.append(new_row)\n",
        "  df = pd.DataFrame(new_rows)"
      ],
      "metadata": {
        "colab": {
          "base_uri": "https://localhost:8080/"
        },
        "id": "SFRECvKIxP5q",
        "outputId": "21478d0a-5825-4d09-9409-e2641ab9ee35"
      },
      "execution_count": 21,
      "outputs": [
        {
          "output_type": "stream",
          "name": "stderr",
          "text": [
            "100%|██████████| 13773/13773 [38:24<00:00,  5.98it/s]\n"
          ]
        }
      ]
    },
    {
      "cell_type": "code",
      "source": [
        "df[\"gnomad_v2.1_sv_AF\"] = df[\"gnomad_v2.1_sv_AF\"].fillna(0)\n",
        "df[\"gnomad_v2.1_sv_AFR_AF\"] = df[\"gnomad_v2.1_sv_AFR_AF\"].fillna(0)\n",
        "df[\"gnomad_v2.1_sv_AMR_AF\"] = df[\"gnomad_v2.1_sv_AMR_AF\"].fillna(0)\n",
        "df[\"gnomad_v2.1_sv_EAS_AF\"] = df[\"gnomad_v2.1_sv_EAS_AF\"].fillna(0)\n",
        "df[\"gnomad_v2.1_sv_EUR_AF\"] = df[\"gnomad_v2.1_sv_EUR_AF\"].fillna(0)\n",
        "df[\"BOTHSIDES_SUPPORT\"] = df[\"BOTHSIDES_SUPPORT\"].fillna(False)\n",
        "df[\"HIGH_SR_BACKGROUND\"] = df[\"HIGH_SR_BACKGROUND\"].fillna(False)\n",
        "df[\"PESR_GT_OVERDISPERSION\"] = df[\"PESR_GT_OVERDISPERSION\"].fillna(False)"
      ],
      "metadata": {
        "colab": {
          "base_uri": "https://localhost:8080/"
        },
        "id": "MgBcyRnYJpnD",
        "outputId": "d1b58c8d-86c9-460d-c6ae-41fbc41b9d22"
      },
      "execution_count": 22,
      "outputs": [
        {
          "output_type": "stream",
          "name": "stderr",
          "text": [
            "<ipython-input-22-2c30e909c432>:6: FutureWarning: Downcasting object dtype arrays on .fillna, .ffill, .bfill is deprecated and will change in a future version. Call result.infer_objects(copy=False) instead. To opt-in to the future behavior, set `pd.set_option('future.no_silent_downcasting', True)`\n",
            "  df[\"BOTHSIDES_SUPPORT\"] = df[\"BOTHSIDES_SUPPORT\"].fillna(False)\n",
            "<ipython-input-22-2c30e909c432>:7: FutureWarning: Downcasting object dtype arrays on .fillna, .ffill, .bfill is deprecated and will change in a future version. Call result.infer_objects(copy=False) instead. To opt-in to the future behavior, set `pd.set_option('future.no_silent_downcasting', True)`\n",
            "  df[\"HIGH_SR_BACKGROUND\"] = df[\"HIGH_SR_BACKGROUND\"].fillna(False)\n",
            "<ipython-input-22-2c30e909c432>:8: FutureWarning: Downcasting object dtype arrays on .fillna, .ffill, .bfill is deprecated and will change in a future version. Call result.infer_objects(copy=False) instead. To opt-in to the future behavior, set `pd.set_option('future.no_silent_downcasting', True)`\n",
            "  df[\"PESR_GT_OVERDISPERSION\"] = df[\"PESR_GT_OVERDISPERSION\"].fillna(False)\n"
          ]
        }
      ]
    },
    {
      "cell_type": "code",
      "source": [
        "features_missing_info_after = copy.deepcopy(features_missing_info)\n",
        "for column in df.columns:\n",
        "  nan_count = df[column].isna().sum()\n",
        "  if nan_count > 0:\n",
        "    features_missing_info_after[column].append(nan_count)\n",
        "\n",
        "missing_features_df = get_features_missing_info_dataframe(features_missing_info_after)"
      ],
      "metadata": {
        "id": "E-ewhU1K7RtG"
      },
      "execution_count": 23,
      "outputs": []
    },
    {
      "cell_type": "code",
      "source": [
        "missing_features_df"
      ],
      "metadata": {
        "colab": {
          "base_uri": "https://localhost:8080/",
          "height": 739
        },
        "id": "LZDe95R3KDZO",
        "outputId": "163674d0-7ff9-42bb-d767-705f8909fd23"
      },
      "execution_count": 24,
      "outputs": [
        {
          "output_type": "execute_result",
          "data": {
            "text/plain": [
              "                           Feature  Before  After   Diff\n",
              "0                         CPX_TYPE   12804  12804      0\n",
              "1   PREDICTED_NONCODING_BREAKPOINT    2453   2453      0\n",
              "2                gnomad_v2.1_sv_AF   11866      0 -11866\n",
              "3            gnomad_v2.1_sv_AFR_AF   11866      0 -11866\n",
              "4            gnomad_v2.1_sv_AMR_AF   11866      0 -11866\n",
              "5            gnomad_v2.1_sv_EAS_AF   11866      0 -11866\n",
              "6            gnomad_v2.1_sv_EUR_AF   11866      0 -11866\n",
              "7                            RD_CN    4496   4496      0\n",
              "8                            RD_GQ    4496   4496      0\n",
              "9                            PE_GQ    3621   3621      0\n",
              "10                           PE_GT    3621   3621      0\n",
              "11                           SR_GQ    3621   3621      0\n",
              "12                           SR_GT    3621   3621      0\n",
              "13                   paternal_rdcn    4496   4496      0\n",
              "14                   maternal_rdcn    4496   4496      0\n",
              "15                   paternal_pegq    3621   3621      0\n",
              "16                   maternal_pegq    3621   3621      0\n",
              "17                   paternal_srgq    3621   3621      0\n",
              "18                   maternal_srgq    3621   3621      0\n",
              "19               BOTHSIDES_SUPPORT   10061      0 -10061\n",
              "20              HIGH_SR_BACKGROUND   10061      0 -10061\n",
              "21          PESR_GT_OVERDISPERSION   10061      0 -10061"
            ],
            "text/html": [
              "\n",
              "  <div id=\"df-be1c2340-c215-490b-9670-f82703d1019f\" class=\"colab-df-container\">\n",
              "    <div>\n",
              "<style scoped>\n",
              "    .dataframe tbody tr th:only-of-type {\n",
              "        vertical-align: middle;\n",
              "    }\n",
              "\n",
              "    .dataframe tbody tr th {\n",
              "        vertical-align: top;\n",
              "    }\n",
              "\n",
              "    .dataframe thead th {\n",
              "        text-align: right;\n",
              "    }\n",
              "</style>\n",
              "<table border=\"1\" class=\"dataframe\">\n",
              "  <thead>\n",
              "    <tr style=\"text-align: right;\">\n",
              "      <th></th>\n",
              "      <th>Feature</th>\n",
              "      <th>Before</th>\n",
              "      <th>After</th>\n",
              "      <th>Diff</th>\n",
              "    </tr>\n",
              "  </thead>\n",
              "  <tbody>\n",
              "    <tr>\n",
              "      <th>0</th>\n",
              "      <td>CPX_TYPE</td>\n",
              "      <td>12804</td>\n",
              "      <td>12804</td>\n",
              "      <td>0</td>\n",
              "    </tr>\n",
              "    <tr>\n",
              "      <th>1</th>\n",
              "      <td>PREDICTED_NONCODING_BREAKPOINT</td>\n",
              "      <td>2453</td>\n",
              "      <td>2453</td>\n",
              "      <td>0</td>\n",
              "    </tr>\n",
              "    <tr>\n",
              "      <th>2</th>\n",
              "      <td>gnomad_v2.1_sv_AF</td>\n",
              "      <td>11866</td>\n",
              "      <td>0</td>\n",
              "      <td>-11866</td>\n",
              "    </tr>\n",
              "    <tr>\n",
              "      <th>3</th>\n",
              "      <td>gnomad_v2.1_sv_AFR_AF</td>\n",
              "      <td>11866</td>\n",
              "      <td>0</td>\n",
              "      <td>-11866</td>\n",
              "    </tr>\n",
              "    <tr>\n",
              "      <th>4</th>\n",
              "      <td>gnomad_v2.1_sv_AMR_AF</td>\n",
              "      <td>11866</td>\n",
              "      <td>0</td>\n",
              "      <td>-11866</td>\n",
              "    </tr>\n",
              "    <tr>\n",
              "      <th>5</th>\n",
              "      <td>gnomad_v2.1_sv_EAS_AF</td>\n",
              "      <td>11866</td>\n",
              "      <td>0</td>\n",
              "      <td>-11866</td>\n",
              "    </tr>\n",
              "    <tr>\n",
              "      <th>6</th>\n",
              "      <td>gnomad_v2.1_sv_EUR_AF</td>\n",
              "      <td>11866</td>\n",
              "      <td>0</td>\n",
              "      <td>-11866</td>\n",
              "    </tr>\n",
              "    <tr>\n",
              "      <th>7</th>\n",
              "      <td>RD_CN</td>\n",
              "      <td>4496</td>\n",
              "      <td>4496</td>\n",
              "      <td>0</td>\n",
              "    </tr>\n",
              "    <tr>\n",
              "      <th>8</th>\n",
              "      <td>RD_GQ</td>\n",
              "      <td>4496</td>\n",
              "      <td>4496</td>\n",
              "      <td>0</td>\n",
              "    </tr>\n",
              "    <tr>\n",
              "      <th>9</th>\n",
              "      <td>PE_GQ</td>\n",
              "      <td>3621</td>\n",
              "      <td>3621</td>\n",
              "      <td>0</td>\n",
              "    </tr>\n",
              "    <tr>\n",
              "      <th>10</th>\n",
              "      <td>PE_GT</td>\n",
              "      <td>3621</td>\n",
              "      <td>3621</td>\n",
              "      <td>0</td>\n",
              "    </tr>\n",
              "    <tr>\n",
              "      <th>11</th>\n",
              "      <td>SR_GQ</td>\n",
              "      <td>3621</td>\n",
              "      <td>3621</td>\n",
              "      <td>0</td>\n",
              "    </tr>\n",
              "    <tr>\n",
              "      <th>12</th>\n",
              "      <td>SR_GT</td>\n",
              "      <td>3621</td>\n",
              "      <td>3621</td>\n",
              "      <td>0</td>\n",
              "    </tr>\n",
              "    <tr>\n",
              "      <th>13</th>\n",
              "      <td>paternal_rdcn</td>\n",
              "      <td>4496</td>\n",
              "      <td>4496</td>\n",
              "      <td>0</td>\n",
              "    </tr>\n",
              "    <tr>\n",
              "      <th>14</th>\n",
              "      <td>maternal_rdcn</td>\n",
              "      <td>4496</td>\n",
              "      <td>4496</td>\n",
              "      <td>0</td>\n",
              "    </tr>\n",
              "    <tr>\n",
              "      <th>15</th>\n",
              "      <td>paternal_pegq</td>\n",
              "      <td>3621</td>\n",
              "      <td>3621</td>\n",
              "      <td>0</td>\n",
              "    </tr>\n",
              "    <tr>\n",
              "      <th>16</th>\n",
              "      <td>maternal_pegq</td>\n",
              "      <td>3621</td>\n",
              "      <td>3621</td>\n",
              "      <td>0</td>\n",
              "    </tr>\n",
              "    <tr>\n",
              "      <th>17</th>\n",
              "      <td>paternal_srgq</td>\n",
              "      <td>3621</td>\n",
              "      <td>3621</td>\n",
              "      <td>0</td>\n",
              "    </tr>\n",
              "    <tr>\n",
              "      <th>18</th>\n",
              "      <td>maternal_srgq</td>\n",
              "      <td>3621</td>\n",
              "      <td>3621</td>\n",
              "      <td>0</td>\n",
              "    </tr>\n",
              "    <tr>\n",
              "      <th>19</th>\n",
              "      <td>BOTHSIDES_SUPPORT</td>\n",
              "      <td>10061</td>\n",
              "      <td>0</td>\n",
              "      <td>-10061</td>\n",
              "    </tr>\n",
              "    <tr>\n",
              "      <th>20</th>\n",
              "      <td>HIGH_SR_BACKGROUND</td>\n",
              "      <td>10061</td>\n",
              "      <td>0</td>\n",
              "      <td>-10061</td>\n",
              "    </tr>\n",
              "    <tr>\n",
              "      <th>21</th>\n",
              "      <td>PESR_GT_OVERDISPERSION</td>\n",
              "      <td>10061</td>\n",
              "      <td>0</td>\n",
              "      <td>-10061</td>\n",
              "    </tr>\n",
              "  </tbody>\n",
              "</table>\n",
              "</div>\n",
              "    <div class=\"colab-df-buttons\">\n",
              "\n",
              "  <div class=\"colab-df-container\">\n",
              "    <button class=\"colab-df-convert\" onclick=\"convertToInteractive('df-be1c2340-c215-490b-9670-f82703d1019f')\"\n",
              "            title=\"Convert this dataframe to an interactive table.\"\n",
              "            style=\"display:none;\">\n",
              "\n",
              "  <svg xmlns=\"http://www.w3.org/2000/svg\" height=\"24px\" viewBox=\"0 -960 960 960\">\n",
              "    <path d=\"M120-120v-720h720v720H120Zm60-500h600v-160H180v160Zm220 220h160v-160H400v160Zm0 220h160v-160H400v160ZM180-400h160v-160H180v160Zm440 0h160v-160H620v160ZM180-180h160v-160H180v160Zm440 0h160v-160H620v160Z\"/>\n",
              "  </svg>\n",
              "    </button>\n",
              "\n",
              "  <style>\n",
              "    .colab-df-container {\n",
              "      display:flex;\n",
              "      gap: 12px;\n",
              "    }\n",
              "\n",
              "    .colab-df-convert {\n",
              "      background-color: #E8F0FE;\n",
              "      border: none;\n",
              "      border-radius: 50%;\n",
              "      cursor: pointer;\n",
              "      display: none;\n",
              "      fill: #1967D2;\n",
              "      height: 32px;\n",
              "      padding: 0 0 0 0;\n",
              "      width: 32px;\n",
              "    }\n",
              "\n",
              "    .colab-df-convert:hover {\n",
              "      background-color: #E2EBFA;\n",
              "      box-shadow: 0px 1px 2px rgba(60, 64, 67, 0.3), 0px 1px 3px 1px rgba(60, 64, 67, 0.15);\n",
              "      fill: #174EA6;\n",
              "    }\n",
              "\n",
              "    .colab-df-buttons div {\n",
              "      margin-bottom: 4px;\n",
              "    }\n",
              "\n",
              "    [theme=dark] .colab-df-convert {\n",
              "      background-color: #3B4455;\n",
              "      fill: #D2E3FC;\n",
              "    }\n",
              "\n",
              "    [theme=dark] .colab-df-convert:hover {\n",
              "      background-color: #434B5C;\n",
              "      box-shadow: 0px 1px 3px 1px rgba(0, 0, 0, 0.15);\n",
              "      filter: drop-shadow(0px 1px 2px rgba(0, 0, 0, 0.3));\n",
              "      fill: #FFFFFF;\n",
              "    }\n",
              "  </style>\n",
              "\n",
              "    <script>\n",
              "      const buttonEl =\n",
              "        document.querySelector('#df-be1c2340-c215-490b-9670-f82703d1019f button.colab-df-convert');\n",
              "      buttonEl.style.display =\n",
              "        google.colab.kernel.accessAllowed ? 'block' : 'none';\n",
              "\n",
              "      async function convertToInteractive(key) {\n",
              "        const element = document.querySelector('#df-be1c2340-c215-490b-9670-f82703d1019f');\n",
              "        const dataTable =\n",
              "          await google.colab.kernel.invokeFunction('convertToInteractive',\n",
              "                                                    [key], {});\n",
              "        if (!dataTable) return;\n",
              "\n",
              "        const docLinkHtml = 'Like what you see? Visit the ' +\n",
              "          '<a target=\"_blank\" href=https://colab.research.google.com/notebooks/data_table.ipynb>data table notebook</a>'\n",
              "          + ' to learn more about interactive tables.';\n",
              "        element.innerHTML = '';\n",
              "        dataTable['output_type'] = 'display_data';\n",
              "        await google.colab.output.renderOutput(dataTable, element);\n",
              "        const docLink = document.createElement('div');\n",
              "        docLink.innerHTML = docLinkHtml;\n",
              "        element.appendChild(docLink);\n",
              "      }\n",
              "    </script>\n",
              "  </div>\n",
              "\n",
              "\n",
              "<div id=\"df-12201bda-c130-4550-b03f-64bda39f11fc\">\n",
              "  <button class=\"colab-df-quickchart\" onclick=\"quickchart('df-12201bda-c130-4550-b03f-64bda39f11fc')\"\n",
              "            title=\"Suggest charts\"\n",
              "            style=\"display:none;\">\n",
              "\n",
              "<svg xmlns=\"http://www.w3.org/2000/svg\" height=\"24px\"viewBox=\"0 0 24 24\"\n",
              "     width=\"24px\">\n",
              "    <g>\n",
              "        <path d=\"M19 3H5c-1.1 0-2 .9-2 2v14c0 1.1.9 2 2 2h14c1.1 0 2-.9 2-2V5c0-1.1-.9-2-2-2zM9 17H7v-7h2v7zm4 0h-2V7h2v10zm4 0h-2v-4h2v4z\"/>\n",
              "    </g>\n",
              "</svg>\n",
              "  </button>\n",
              "\n",
              "<style>\n",
              "  .colab-df-quickchart {\n",
              "      --bg-color: #E8F0FE;\n",
              "      --fill-color: #1967D2;\n",
              "      --hover-bg-color: #E2EBFA;\n",
              "      --hover-fill-color: #174EA6;\n",
              "      --disabled-fill-color: #AAA;\n",
              "      --disabled-bg-color: #DDD;\n",
              "  }\n",
              "\n",
              "  [theme=dark] .colab-df-quickchart {\n",
              "      --bg-color: #3B4455;\n",
              "      --fill-color: #D2E3FC;\n",
              "      --hover-bg-color: #434B5C;\n",
              "      --hover-fill-color: #FFFFFF;\n",
              "      --disabled-bg-color: #3B4455;\n",
              "      --disabled-fill-color: #666;\n",
              "  }\n",
              "\n",
              "  .colab-df-quickchart {\n",
              "    background-color: var(--bg-color);\n",
              "    border: none;\n",
              "    border-radius: 50%;\n",
              "    cursor: pointer;\n",
              "    display: none;\n",
              "    fill: var(--fill-color);\n",
              "    height: 32px;\n",
              "    padding: 0;\n",
              "    width: 32px;\n",
              "  }\n",
              "\n",
              "  .colab-df-quickchart:hover {\n",
              "    background-color: var(--hover-bg-color);\n",
              "    box-shadow: 0 1px 2px rgba(60, 64, 67, 0.3), 0 1px 3px 1px rgba(60, 64, 67, 0.15);\n",
              "    fill: var(--button-hover-fill-color);\n",
              "  }\n",
              "\n",
              "  .colab-df-quickchart-complete:disabled,\n",
              "  .colab-df-quickchart-complete:disabled:hover {\n",
              "    background-color: var(--disabled-bg-color);\n",
              "    fill: var(--disabled-fill-color);\n",
              "    box-shadow: none;\n",
              "  }\n",
              "\n",
              "  .colab-df-spinner {\n",
              "    border: 2px solid var(--fill-color);\n",
              "    border-color: transparent;\n",
              "    border-bottom-color: var(--fill-color);\n",
              "    animation:\n",
              "      spin 1s steps(1) infinite;\n",
              "  }\n",
              "\n",
              "  @keyframes spin {\n",
              "    0% {\n",
              "      border-color: transparent;\n",
              "      border-bottom-color: var(--fill-color);\n",
              "      border-left-color: var(--fill-color);\n",
              "    }\n",
              "    20% {\n",
              "      border-color: transparent;\n",
              "      border-left-color: var(--fill-color);\n",
              "      border-top-color: var(--fill-color);\n",
              "    }\n",
              "    30% {\n",
              "      border-color: transparent;\n",
              "      border-left-color: var(--fill-color);\n",
              "      border-top-color: var(--fill-color);\n",
              "      border-right-color: var(--fill-color);\n",
              "    }\n",
              "    40% {\n",
              "      border-color: transparent;\n",
              "      border-right-color: var(--fill-color);\n",
              "      border-top-color: var(--fill-color);\n",
              "    }\n",
              "    60% {\n",
              "      border-color: transparent;\n",
              "      border-right-color: var(--fill-color);\n",
              "    }\n",
              "    80% {\n",
              "      border-color: transparent;\n",
              "      border-right-color: var(--fill-color);\n",
              "      border-bottom-color: var(--fill-color);\n",
              "    }\n",
              "    90% {\n",
              "      border-color: transparent;\n",
              "      border-bottom-color: var(--fill-color);\n",
              "    }\n",
              "  }\n",
              "</style>\n",
              "\n",
              "  <script>\n",
              "    async function quickchart(key) {\n",
              "      const quickchartButtonEl =\n",
              "        document.querySelector('#' + key + ' button');\n",
              "      quickchartButtonEl.disabled = true;  // To prevent multiple clicks.\n",
              "      quickchartButtonEl.classList.add('colab-df-spinner');\n",
              "      try {\n",
              "        const charts = await google.colab.kernel.invokeFunction(\n",
              "            'suggestCharts', [key], {});\n",
              "      } catch (error) {\n",
              "        console.error('Error during call to suggestCharts:', error);\n",
              "      }\n",
              "      quickchartButtonEl.classList.remove('colab-df-spinner');\n",
              "      quickchartButtonEl.classList.add('colab-df-quickchart-complete');\n",
              "    }\n",
              "    (() => {\n",
              "      let quickchartButtonEl =\n",
              "        document.querySelector('#df-12201bda-c130-4550-b03f-64bda39f11fc button');\n",
              "      quickchartButtonEl.style.display =\n",
              "        google.colab.kernel.accessAllowed ? 'block' : 'none';\n",
              "    })();\n",
              "  </script>\n",
              "</div>\n",
              "\n",
              "  <div id=\"id_a6b8a2a4-2552-45b9-9059-0c8d0c3bcefe\">\n",
              "    <style>\n",
              "      .colab-df-generate {\n",
              "        background-color: #E8F0FE;\n",
              "        border: none;\n",
              "        border-radius: 50%;\n",
              "        cursor: pointer;\n",
              "        display: none;\n",
              "        fill: #1967D2;\n",
              "        height: 32px;\n",
              "        padding: 0 0 0 0;\n",
              "        width: 32px;\n",
              "      }\n",
              "\n",
              "      .colab-df-generate:hover {\n",
              "        background-color: #E2EBFA;\n",
              "        box-shadow: 0px 1px 2px rgba(60, 64, 67, 0.3), 0px 1px 3px 1px rgba(60, 64, 67, 0.15);\n",
              "        fill: #174EA6;\n",
              "      }\n",
              "\n",
              "      [theme=dark] .colab-df-generate {\n",
              "        background-color: #3B4455;\n",
              "        fill: #D2E3FC;\n",
              "      }\n",
              "\n",
              "      [theme=dark] .colab-df-generate:hover {\n",
              "        background-color: #434B5C;\n",
              "        box-shadow: 0px 1px 3px 1px rgba(0, 0, 0, 0.15);\n",
              "        filter: drop-shadow(0px 1px 2px rgba(0, 0, 0, 0.3));\n",
              "        fill: #FFFFFF;\n",
              "      }\n",
              "    </style>\n",
              "    <button class=\"colab-df-generate\" onclick=\"generateWithVariable('missing_features_df')\"\n",
              "            title=\"Generate code using this dataframe.\"\n",
              "            style=\"display:none;\">\n",
              "\n",
              "  <svg xmlns=\"http://www.w3.org/2000/svg\" height=\"24px\"viewBox=\"0 0 24 24\"\n",
              "       width=\"24px\">\n",
              "    <path d=\"M7,19H8.4L18.45,9,17,7.55,7,17.6ZM5,21V16.75L18.45,3.32a2,2,0,0,1,2.83,0l1.4,1.43a1.91,1.91,0,0,1,.58,1.4,1.91,1.91,0,0,1-.58,1.4L9.25,21ZM18.45,9,17,7.55Zm-12,3A5.31,5.31,0,0,0,4.9,8.1,5.31,5.31,0,0,0,1,6.5,5.31,5.31,0,0,0,4.9,4.9,5.31,5.31,0,0,0,6.5,1,5.31,5.31,0,0,0,8.1,4.9,5.31,5.31,0,0,0,12,6.5,5.46,5.46,0,0,0,6.5,12Z\"/>\n",
              "  </svg>\n",
              "    </button>\n",
              "    <script>\n",
              "      (() => {\n",
              "      const buttonEl =\n",
              "        document.querySelector('#id_a6b8a2a4-2552-45b9-9059-0c8d0c3bcefe button.colab-df-generate');\n",
              "      buttonEl.style.display =\n",
              "        google.colab.kernel.accessAllowed ? 'block' : 'none';\n",
              "\n",
              "      buttonEl.onclick = () => {\n",
              "        google.colab.notebook.generateWithVariable('missing_features_df');\n",
              "      }\n",
              "      })();\n",
              "    </script>\n",
              "  </div>\n",
              "\n",
              "    </div>\n",
              "  </div>\n"
            ],
            "application/vnd.google.colaboratory.intrinsic+json": {
              "type": "dataframe",
              "variable_name": "missing_features_df",
              "summary": "{\n  \"name\": \"missing_features_df\",\n  \"rows\": 22,\n  \"fields\": [\n    {\n      \"column\": \"Feature\",\n      \"properties\": {\n        \"dtype\": \"string\",\n        \"samples\": [\n          \"CPX_TYPE\",\n          \"paternal_rdcn\",\n          \"RD_GQ\"\n        ],\n        \"num_unique_values\": 22,\n        \"semantic_type\": \"\",\n        \"description\": \"\"\n      }\n    },\n    {\n      \"column\": \"Before\",\n      \"properties\": {\n        \"dtype\": \"number\",\n        \"std\": 3885,\n        \"min\": 2453,\n        \"max\": 12804,\n        \"samples\": [\n          12804,\n          2453,\n          10061\n        ],\n        \"num_unique_values\": 6,\n        \"semantic_type\": \"\",\n        \"description\": \"\"\n      }\n    },\n    {\n      \"column\": \"After\",\n      \"properties\": {\n        \"dtype\": \"number\",\n        \"std\": 2926,\n        \"min\": 0,\n        \"max\": 12804,\n        \"samples\": [\n          2453,\n          3621,\n          0\n        ],\n        \"num_unique_values\": 5,\n        \"semantic_type\": \"\",\n        \"description\": \"\"\n      }\n    },\n    {\n      \"column\": \"Diff\",\n      \"properties\": {\n        \"dtype\": \"number\",\n        \"std\": 5535,\n        \"min\": -11866,\n        \"max\": 0,\n        \"samples\": [\n          0,\n          -11866,\n          -10061\n        ],\n        \"num_unique_values\": 3,\n        \"semantic_type\": \"\",\n        \"description\": \"\"\n      }\n    }\n  ]\n}"
            }
          },
          "metadata": {},
          "execution_count": 24
        }
      ]
    },
    {
      "cell_type": "code",
      "source": [
        "def get_obj_type_columns(dataframe):\n",
        "  obj_cols = []\n",
        "  dtypes = dataframe.dtypes\n",
        "  for column, dtype in dtypes.items():\n",
        "    # print(f\"{dtype}\\t{column}\")\n",
        "    if dtype == object:\n",
        "      obj_cols.append(column)\n",
        "  return obj_cols"
      ],
      "metadata": {
        "id": "aNk3Nk8ncM9k"
      },
      "execution_count": 25,
      "outputs": []
    },
    {
      "cell_type": "code",
      "source": [
        "object_type_columns = get_obj_type_columns(df)"
      ],
      "metadata": {
        "id": "682sGGaNSO9Z"
      },
      "execution_count": 26,
      "outputs": []
    },
    {
      "cell_type": "code",
      "source": [
        "def get_numerical_fixed_columns(dataframe):\n",
        "  dataframe[\"PE_GQ\"] = pd.to_numeric(dataframe[\"PE_GQ\"], errors=\"coerce\")\n",
        "  dataframe[\"PE_GT\"] = pd.to_numeric(dataframe[\"PE_GT\"], errors=\"coerce\")\n",
        "  dataframe[\"SR_GQ\"] = pd.to_numeric(dataframe[\"SR_GQ\"], errors=\"coerce\")\n",
        "  dataframe[\"SR_GT\"] = pd.to_numeric(dataframe[\"SR_GT\"], errors=\"coerce\")\n",
        "  dataframe[\"paternal_pegq\"] = pd.to_numeric(dataframe[\"paternal_pegq\"], errors=\"coerce\")\n",
        "  dataframe[\"maternal_pegq\"] = pd.to_numeric(dataframe[\"maternal_pegq\"], errors=\"coerce\")\n",
        "  dataframe[\"paternal_srgq\"] = pd.to_numeric(dataframe[\"paternal_srgq\"], errors=\"coerce\")\n",
        "  dataframe[\"maternal_srgq\"] = pd.to_numeric(dataframe[\"maternal_srgq\"], errors=\"coerce\")\n",
        "  return dataframe\n",
        "\n",
        "df = get_numerical_fixed_columns(df)"
      ],
      "metadata": {
        "id": "ndFMvVMRAVyY"
      },
      "execution_count": 27,
      "outputs": []
    },
    {
      "cell_type": "code",
      "source": [
        "df[\"result_final\"] = df[\"result_final\"].replace({\"yes\": 1, \"no_unsure\": 0})"
      ],
      "metadata": {
        "id": "sFQUekgP2Amd"
      },
      "execution_count": 28,
      "outputs": []
    },
    {
      "cell_type": "code",
      "source": [
        "def get_nan_resolved_columns(dataframe):\n",
        "  dataframe[\"gnomad_v2.1_sv_AF\"] = dataframe[\"gnomad_v2.1_sv_AF\"].fillna(0)\n",
        "  dataframe[\"gnomad_v2.1_sv_AFR_AF\"] = dataframe[\"gnomad_v2.1_sv_AFR_AF\"].fillna(0)\n",
        "  dataframe[\"gnomad_v2.1_sv_AMR_AF\"] = dataframe[\"gnomad_v2.1_sv_AMR_AF\"].fillna(0)\n",
        "  dataframe[\"gnomad_v2.1_sv_EAS_AF\"] = dataframe[\"gnomad_v2.1_sv_EAS_AF\"].fillna(0)\n",
        "  dataframe[\"gnomad_v2.1_sv_EUR_AF\"] = dataframe[\"gnomad_v2.1_sv_EUR_AF\"].fillna(0)\n",
        "  return dataframe\n",
        "\n",
        "df = get_nan_resolved_columns(df)"
      ],
      "metadata": {
        "id": "n6aQ-A7k2SoV"
      },
      "execution_count": 29,
      "outputs": []
    },
    {
      "cell_type": "code",
      "source": [
        "def impute_column(dataframe, column):\n",
        "  imputer = SimpleImputer(missing_values=np.nan, strategy='mean')\n",
        "  dataframe[column] = imputer.fit_transform(dataframe[[column]])\n",
        "  return dataframe\n",
        "\n",
        "# should this for CNV only?\n",
        "df = impute_column(df, \"paternal_pegq\")\n",
        "df = impute_column(df, \"maternal_pegq\")\n",
        "df = impute_column(df, \"paternal_srgq\")\n",
        "df = impute_column(df, \"maternal_srgq\")"
      ],
      "metadata": {
        "id": "7HtTpRrc3BcU"
      },
      "execution_count": 30,
      "outputs": []
    },
    {
      "cell_type": "code",
      "source": [
        "def get_cols_containing_nan_values(dataframe, exclude_cols = [\"result_final\"]):\n",
        "  cols_with_nan = []\n",
        "  for column in dataframe.columns:\n",
        "    nan_count = dataframe[column].isna().sum()\n",
        "    if nan_count > 0 and column not in exclude_cols:\n",
        "      cols_with_nan.append([column, nan_count])\n",
        "  return cols_with_nan"
      ],
      "metadata": {
        "id": "ZerstwhCon7G"
      },
      "execution_count": 31,
      "outputs": []
    },
    {
      "cell_type": "code",
      "source": [
        "def print_missing_cols_summary(dataframe):\n",
        "  cols_with_nan = get_cols_containing_nan_values(dataframe)\n",
        "  if len(cols_with_nan) == 0:\n",
        "    print(\"No columns with missing values!\")\n",
        "  else:\n",
        "    for x in cols_with_nan:\n",
        "      print(x)"
      ],
      "metadata": {
        "id": "kGN5SJosoqZR"
      },
      "execution_count": 32,
      "outputs": []
    },
    {
      "cell_type": "code",
      "source": [
        "print_missing_cols_summary(df)\n",
        "print(f\"Columns with obj type: {get_obj_type_columns(df)}\")"
      ],
      "metadata": {
        "colab": {
          "base_uri": "https://localhost:8080/"
        },
        "id": "Nvq8NP4Xo0NX",
        "outputId": "839e3d06-2e20-4559-b9da-b73e5397a429"
      },
      "execution_count": 33,
      "outputs": [
        {
          "output_type": "stream",
          "name": "stdout",
          "text": [
            "['CPX_TYPE', 12804]\n",
            "['PREDICTED_NONCODING_BREAKPOINT', 2453]\n",
            "['RD_CN', 4496]\n",
            "['RD_GQ', 4496]\n",
            "['PE_GQ', 3953]\n",
            "['PE_GT', 3953]\n",
            "['SR_GQ', 3953]\n",
            "['SR_GT', 3953]\n",
            "['paternal_rdcn', 4496]\n",
            "['maternal_rdcn', 4496]\n",
            "Columns with obj type: ['chrom', 'svtype', 'sample', 'ALGORITHMS', 'CPX_TYPE', 'EVIDENCE', 'PREDICTED_NONCODING_BREAKPOINT', 'FILTER', 'GT', 'EV']\n"
          ]
        }
      ]
    },
    {
      "cell_type": "code",
      "source": [
        "cnv_only_condition = (df[\"svtype\"] == \"DEL\") | (df[\"svtype\"] == \"DUP\")\n",
        "depth_only_condition = (df[\"EVIDENCE\"] == \"RD\") | (df[[\"PE_GQ\", \"PE_GT\", \"SR_GQ\", \"SR_GT\"]].isna().any(axis=1))\n",
        "cpx_condition = df[\"svtype\"] == \"CPX\"\n",
        "cnv_only_df = df[(cnv_only_condition) & ~(depth_only_condition)].copy()\n",
        "depth_only_cnv_df = df[(cnv_only_condition) & (depth_only_condition)].copy()\n",
        "non_cnv_only_df = df[(~cnv_only_condition) & (~cpx_condition)].copy()\n",
        "cpx_only_df = df[(~cnv_only_condition) & cpx_condition].copy()"
      ],
      "metadata": {
        "id": "i1Lfamu4-SjT"
      },
      "execution_count": 34,
      "outputs": []
    },
    {
      "cell_type": "markdown",
      "source": [
        "Here we first split the dataframe to three dataframes containing,\n",
        "cnv-only, depth-only-cnv-only, and non-cnv variants.\n",
        "Then perform all the formatting operations outlined in the following on\n",
        "each of the dataframes separately. An alternative to this approach is\n",
        "to perform all the required formatting on the input dataframe,\n",
        "and only split the variants in the three groups after all\n",
        "the formatting is complete.\n",
        "\n",
        "However, the drawback of the latter is that dataframes may end up having\n",
        "categories/features that does not belong to that group, whose value is\n",
        "the same across all the variants in that group.\n",
        "Developed models may converge to ignore such features,\n",
        "but it is generally a better practice to only include the features\n",
        "that are expected to have a functional impact on the outcome.\n",
        "\n",
        "Hence, we first split the variants in three groups, then\n",
        "format each group/dataframe separately."
      ],
      "metadata": {
        "id": "JMfEVUfbHOGt"
      }
    },
    {
      "cell_type": "code",
      "source": [
        "print(f\"All input:                    {df.shape}\")\n",
        "print(f\"Non-CNVs:                     {non_cnv_only_df.shape}\")\n",
        "print(f\"Only CNVs without depth-only: {cnv_only_df.shape}\")\n",
        "print(f\"Only CNVs only    depth-only: {depth_only_cnv_df.shape}\")\n",
        "print(f\"Only CPX:                     {cpx_only_df.shape}\")\n",
        "\n",
        "assert cnv_only_df.shape[0] + depth_only_cnv_df.shape[0] + non_cnv_only_df.shape[0] + cpx_only_df.shape[0] == df.shape[0]\n",
        "assert cnv_only_df.shape[1] == depth_only_cnv_df.shape[1] == non_cnv_only_df.shape[1] == df.shape[1] == cpx_only_df.shape[1]"
      ],
      "metadata": {
        "id": "PWGb66UWA4O4",
        "colab": {
          "base_uri": "https://localhost:8080/"
        },
        "outputId": "3871f618-d8a5-411d-a4e3-0ae4db8af827"
      },
      "execution_count": 35,
      "outputs": [
        {
          "output_type": "stream",
          "name": "stdout",
          "text": [
            "All input:                    (13773, 80)\n",
            "Non-CNVs:                     (3684, 80)\n",
            "Only CNVs without depth-only: (5202, 80)\n",
            "Only CNVs only    depth-only: (3924, 80)\n",
            "Only CPX:                     (963, 80)\n"
          ]
        }
      ]
    },
    {
      "cell_type": "code",
      "source": [
        "def get_multi_class_binarized(dataframe, column_label, delimiter=\",\", new_column_label_prefix=None):\n",
        "  if new_column_label_prefix is None:\n",
        "    new_column_label_prefix = column_label\n",
        "\n",
        "  dataframe[column_label] = dataframe[column_label].apply(\n",
        "      lambda x: [] if pd.isna(x) else x.split(delimiter)).to_list()\n",
        "\n",
        "  binarizer = MultiLabelBinarizer()\n",
        "  binarized = binarizer.fit_transform(dataframe[column_label])\n",
        "  binarized_df = pd.DataFrame(\n",
        "      binarized,\n",
        "      columns=[f\"{new_column_label_prefix}_{class_label}\" for class_label in binarizer.classes_])\n",
        "\n",
        "  dataframe = dataframe.drop([column_label], axis=1)\n",
        "  dataframe.reset_index(drop=True, inplace=True)\n",
        "  return pd.concat([dataframe, binarized_df], axis=1)\n",
        "\n",
        "# Convert columns with categorical values.\n",
        "def get_multi_class_binarized_columns(dataframe):\n",
        "  dataframe = get_multi_class_binarized(dataframe, \"svtype\", \":\")\n",
        "  dataframe = get_multi_class_binarized(dataframe, \"ALGORITHMS\")\n",
        "  dataframe = get_multi_class_binarized(dataframe, \"CPX_TYPE\")\n",
        "  dataframe = get_multi_class_binarized(dataframe, \"PREDICTED_NONCODING_BREAKPOINT\")\n",
        "  dataframe = get_multi_class_binarized(dataframe, \"FILTER\")\n",
        "  dataframe = get_multi_class_binarized(dataframe, \"GT\")\n",
        "  dataframe = get_multi_class_binarized(dataframe, \"EVIDENCE\")\n",
        "  dataframe = get_multi_class_binarized(dataframe, \"EV\")\n",
        "  return dataframe\n",
        "\n",
        "cnv_only_df = get_multi_class_binarized_columns(cnv_only_df)\n",
        "non_cnv_only_df = get_multi_class_binarized_columns(non_cnv_only_df)\n",
        "depth_only_cnv_df = get_multi_class_binarized_columns(depth_only_cnv_df)\n",
        "cpx_only_df = get_multi_class_binarized_columns(cpx_only_df)"
      ],
      "metadata": {
        "id": "UgXIIC1oH0L3"
      },
      "execution_count": 36,
      "outputs": []
    },
    {
      "cell_type": "code",
      "source": [
        "cpx_only_df = impute_column(cpx_only_df, \"PE_GQ\")\n",
        "cpx_only_df = impute_column(cpx_only_df, \"PE_GT\")\n",
        "cpx_only_df = impute_column(cpx_only_df, \"SR_GQ\")\n",
        "cpx_only_df = impute_column(cpx_only_df, \"SR_GT\")\n",
        "cpx_only_df = impute_column(cpx_only_df, \"paternal_pegq\")\n",
        "cpx_only_df = impute_column(cpx_only_df, \"maternal_pegq\")\n",
        "cpx_only_df = impute_column(cpx_only_df, \"paternal_srgq\")\n",
        "cpx_only_df = impute_column(cpx_only_df, \"maternal_srgq\")"
      ],
      "metadata": {
        "id": "HUbZmngs9D3R"
      },
      "execution_count": 37,
      "outputs": []
    },
    {
      "cell_type": "code",
      "source": [
        "non_cnv_only_df = non_cnv_only_df.drop(columns=[\"RD_CN\", \"RD_GQ\", \"paternal_rdcn\", \"maternal_rdcn\"])\n",
        "cpx_only_df = cpx_only_df.drop(columns=[\"RD_CN\", \"RD_GQ\", \"paternal_rdcn\", \"maternal_rdcn\"])\n",
        "depth_only_cnv_df = depth_only_cnv_df.drop(columns=[\"PE_GQ\", \"PE_GT\", \"SR_GQ\", \"SR_GT\", \"paternal_pegq\", \"maternal_pegq\", \"paternal_srgq\", \"maternal_srgq\"])"
      ],
      "metadata": {
        "id": "PqhwNW-L8uO2"
      },
      "execution_count": 38,
      "outputs": []
    },
    {
      "cell_type": "code",
      "source": [
        "# cnv_only_df = get_numerical_fixed_columns(cnv_only_df)\n",
        "# depth_only_cnv_df = get_numerical_fixed_columns(depth_only_cnv_df)\n",
        "# non_cnv_only_df = get_numerical_fixed_columns(non_cnv_only_df)\n",
        "# cpx_only_df = get_numerical_fixed_columns(cpx_only_df)"
      ],
      "metadata": {
        "id": "71ecwTE1IuPQ"
      },
      "execution_count": 39,
      "outputs": []
    },
    {
      "cell_type": "code",
      "source": [
        "# def get_start_end_replaced_with_length(dataframe):\n",
        "#   dataframe.insert(1, \"length\", dataframe[\"end\"] - dataframe[\"start\"])\n",
        "#   dataframe = dataframe.drop([\"start\", \"end\"], axis=1)\n",
        "#   return dataframe\n",
        "\n",
        "# cnv_only_df = get_start_end_replaced_with_length(cnv_only_df)\n",
        "# depth_only_cnv_df = get_start_end_replaced_with_length(depth_only_cnv_df)\n",
        "# non_cnv_only_df = get_start_end_replaced_with_length(non_cnv_only_df)\n",
        "# cpx_only_df = get_start_end_replaced_with_length(cpx_only_df)"
      ],
      "metadata": {
        "id": "8Kc04VcTlV3d"
      },
      "execution_count": 40,
      "outputs": []
    },
    {
      "cell_type": "code",
      "source": [
        "# As per discussion with Harrison, we decided to drop all the columns\n",
        "# that still contain NaN after all the previous adjustments.\n",
        "def drop_nan_cols(dataframe):\n",
        "  cols_with_nan = get_cols_containing_nan_values(dataframe)\n",
        "  cols = [x[0] for x in cols_with_nan]\n",
        "\n",
        "  rows_with_nan = dataframe[dataframe[cols].isna().any(axis=1)]\n",
        "\n",
        "  dataframe = dataframe.drop(columns=cols)\n",
        "\n",
        "  print(\"Dropping the following columns:\")\n",
        "  for x in cols_with_nan:\n",
        "    print(x)\n",
        "  return dataframe, rows_with_nan"
      ],
      "metadata": {
        "id": "HTl58rgHYEUf"
      },
      "execution_count": 41,
      "outputs": []
    },
    {
      "cell_type": "code",
      "source": [
        "# print(\"Dropping cols from CNV only:\")\n",
        "# cnv_only_df, cnv_only_dropped_rows_df = drop_nan_cols(cnv_only_df)\n",
        "\n",
        "# print(\"\\nDropping cols from depth-only CNV only:\")\n",
        "# depth_only_cnv_df, depth_only_cnv_dropped_rows_df = drop_nan_cols(depth_only_cnv_df)\n",
        "\n",
        "# print(\"\\nDropping cols from non-CNV only:\")\n",
        "# non_cnv_only_df, non_cnv_only_dropped_rows_df = drop_nan_cols(non_cnv_only_df)\n",
        "\n",
        "# print(\"\\nDropping cols from CPX only:\")\n",
        "# cpx_only_df, cpx_only_dropped_rows_df = drop_nan_cols(cpx_only_df)"
      ],
      "metadata": {
        "id": "p8brwlNEV8ab"
      },
      "execution_count": 42,
      "outputs": []
    },
    {
      "cell_type": "code",
      "source": [
        "print_missing_cols_summary(cnv_only_df)\n",
        "print(f\"Columns with obj type: {get_obj_type_columns(cnv_only_df)}\")"
      ],
      "metadata": {
        "id": "ardYsf8fTFRV",
        "colab": {
          "base_uri": "https://localhost:8080/"
        },
        "outputId": "d3174c61-d7e8-4850-d50a-30ef5f501a34"
      },
      "execution_count": 43,
      "outputs": [
        {
          "output_type": "stream",
          "name": "stdout",
          "text": [
            "No columns with missing values!\n",
            "Columns with obj type: ['chrom', 'sample']\n"
          ]
        }
      ]
    },
    {
      "cell_type": "code",
      "source": [
        "print_missing_cols_summary(depth_only_cnv_df)\n",
        "print(f\"Columns with obj type: {get_obj_type_columns(depth_only_cnv_df)}\")"
      ],
      "metadata": {
        "id": "SqIgqvEWrap2",
        "colab": {
          "base_uri": "https://localhost:8080/"
        },
        "outputId": "b6b57042-42ce-4eac-bfe7-a10e76282129"
      },
      "execution_count": 44,
      "outputs": [
        {
          "output_type": "stream",
          "name": "stdout",
          "text": [
            "No columns with missing values!\n",
            "Columns with obj type: ['chrom', 'sample']\n"
          ]
        }
      ]
    },
    {
      "cell_type": "code",
      "source": [
        "print_missing_cols_summary(non_cnv_only_df)\n",
        "print(f\"Columns with obj type: {get_obj_type_columns(non_cnv_only_df)}\")"
      ],
      "metadata": {
        "id": "u1pz5XRWsA-p",
        "colab": {
          "base_uri": "https://localhost:8080/"
        },
        "outputId": "d11dd953-7b98-4c95-f075-db8f08169596"
      },
      "execution_count": 45,
      "outputs": [
        {
          "output_type": "stream",
          "name": "stdout",
          "text": [
            "No columns with missing values!\n",
            "Columns with obj type: ['chrom', 'sample']\n"
          ]
        }
      ]
    },
    {
      "cell_type": "code",
      "source": [
        "print_missing_cols_summary(cpx_only_df)\n",
        "print(f\"Columns with obj type: {get_obj_type_columns(cpx_only_df)}\")"
      ],
      "metadata": {
        "colab": {
          "base_uri": "https://localhost:8080/"
        },
        "id": "5IKl5yam8642",
        "outputId": "15fc66fb-2c94-4d79-8f1c-0f81d11f48da"
      },
      "execution_count": 46,
      "outputs": [
        {
          "output_type": "stream",
          "name": "stdout",
          "text": [
            "No columns with missing values!\n",
            "Columns with obj type: ['chrom', 'sample']\n"
          ]
        }
      ]
    },
    {
      "cell_type": "code",
      "source": [
        "# _ = to_csv(non_cnv_only_dropped_rows_df, \"non_cnv_only_dropped_rows\", False)\n",
        "# _ = to_csv(cnv_only_dropped_rows_df, \"cnv_only_dropped_rows\", False)\n",
        "# _ = to_csv(depth_only_cnv_dropped_rows_df, \"depth_only_cnv_only_dropped_rows\", False)\n",
        "# _ = to_csv(cpx_only_dropped_rows_df, \"cpx_only_dropped_rows\", False)"
      ],
      "metadata": {
        "id": "LS6BEKWqmCfX"
      },
      "execution_count": 47,
      "outputs": []
    },
    {
      "cell_type": "code",
      "source": [
        "print(f\"All input:                    {df.shape}\")\n",
        "print(f\"Non-CNVs:                     {non_cnv_only_df.shape}\")\n",
        "print(f\"Only CNVs without depth-only: {cnv_only_df.shape}\")\n",
        "print(f\"Only CNVs only    depth-only: {depth_only_cnv_df.shape}\")\n",
        "print(f\"CPX only:                     {cpx_only_df.shape}\")\n",
        "\n",
        "assert cnv_only_df.shape[0] + depth_only_cnv_df.shape[0] + non_cnv_only_df.shape[0] + cpx_only_df.shape[0] == df.shape[0]\n",
        "# assert cnv_only_df.shape[1] == depth_only_cnv_df.shape[1] == non_cnv_only_df.shape[1] == df.shape[1]"
      ],
      "metadata": {
        "id": "vPv72sq-I7Kn",
        "colab": {
          "base_uri": "https://localhost:8080/"
        },
        "outputId": "c23bd293-64a4-48e2-ce20-add8826a7900"
      },
      "execution_count": 48,
      "outputs": [
        {
          "output_type": "stream",
          "name": "stdout",
          "text": [
            "All input:                    (13773, 80)\n",
            "Non-CNVs:                     (3684, 93)\n",
            "Only CNVs without depth-only: (5202, 95)\n",
            "Only CNVs only    depth-only: (3924, 86)\n",
            "CPX only:                     (963, 100)\n"
          ]
        }
      ]
    },
    {
      "cell_type": "code",
      "source": [
        "def to_csv(dataframe, filename_postfix, push_to_bucket=True):\n",
        "  output_filename = f\"{Path(filename).stem}_{filename_postfix}.csv\"\n",
        "  output_filename_local = os.path.join(working_dir, output_filename)\n",
        "  dataframe.to_csv(output_filename_local, index=False, sep=\",\")\n",
        "\n",
        "  if push_to_bucket:\n",
        "    copy_object_to_bucket(bucket_name, f\"{base_blob_name}/{output_filename}\", output_filename_local)\n",
        "\n",
        "  return output_filename_local"
      ],
      "metadata": {
        "id": "tWjAWJcmXHcX"
      },
      "execution_count": 49,
      "outputs": []
    },
    {
      "cell_type": "code",
      "source": [
        "non_cnv_only_filename = to_csv(non_cnv_only_df, \"non_cnv_only\")\n",
        "cnv_only_filename = to_csv(cnv_only_df, \"cnv_only\")\n",
        "depth_only_cnv_filename = to_csv(depth_only_cnv_df, \"depth_only_cnv_only\")\n",
        "cpx_only_filename = to_csv(cpx_only_df, \"cpx_only\")"
      ],
      "metadata": {
        "id": "kvMhw_SUZ1_8"
      },
      "execution_count": 50,
      "outputs": []
    }
  ]
}