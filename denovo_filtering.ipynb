{
  "nbformat": 4,
  "nbformat_minor": 0,
  "metadata": {
    "colab": {
      "provenance": [],
      "authorship_tag": "ABX9TyM2+M1G6971wsbkDG9cdoQ4",
      "include_colab_link": true
    },
    "kernelspec": {
      "name": "python3",
      "display_name": "Python 3"
    },
    "language_info": {
      "name": "python"
    }
  },
  "cells": [
    {
      "cell_type": "markdown",
      "metadata": {
        "id": "view-in-github",
        "colab_type": "text"
      },
      "source": [
        "<a href=\"https://colab.research.google.com/github/VJalili/denovo/blob/main/denovo_filtering.ipynb\" target=\"_parent\"><img src=\"https://colab.research.google.com/assets/colab-badge.svg\" alt=\"Open In Colab\"/></a>"
      ]
    },
    {
      "cell_type": "code",
      "execution_count": null,
      "metadata": {
        "id": "NErfC2fWedEc"
      },
      "outputs": [],
      "source": [
        "# !gcloud init"
      ]
    },
    {
      "cell_type": "code",
      "source": [
        "import os\n",
        "import pandas as pd\n",
        "import gzip"
      ],
      "metadata": {
        "id": "qIGv0QE_SUGk"
      },
      "execution_count": 16,
      "outputs": []
    },
    {
      "cell_type": "code",
      "source": [
        "from google.cloud import storage\n",
        "storage_client = storage.Client(project=\"broad-dsde-methods\")\n",
        "\n",
        "# This method uses the Google cloud storage library which performs faster\n",
        "# calling gsutil using `check_output`.\n",
        "def download_blob(bucket_name, blob_name, local_filename):\n",
        "  bucket = storage_client.get_bucket(bucket_name)\n",
        "  blob = bucket.blob(blob_name)\n",
        "  blob.download_to_filename(local_filename)\n",
        "\n",
        "def copy_object_to_bucket(bucket_name, blob_name, source_filename):\n",
        "  bucket = storage_client.get_bucket(bucket_name)\n",
        "  blob = bucket.blob(blob_name)\n",
        "  blob.upload_from_filename(source_filename)"
      ],
      "metadata": {
        "id": "vayyxfXmSN1U"
      },
      "execution_count": 2,
      "outputs": []
    },
    {
      "cell_type": "code",
      "source": [
        "working_dir = os.path.join(\".\", \"denovo\")\n",
        "if not os.path.exists(working_dir):\n",
        "  os.makedirs(working_dir)"
      ],
      "metadata": {
        "id": "LN9DqsliSRus"
      },
      "execution_count": 8,
      "outputs": []
    },
    {
      "cell_type": "code",
      "source": [
        "def resolve_filename(filename):\n",
        "  local_filename = os.path.join(working_dir, filename)\n",
        "  if not os.path.isfile(local_filename):\n",
        "    download_blob(\"broad-dsde-methods-vj\", f\"denovo-sv/{filename}\", local_filename)\n",
        "    print(f\"Localized {filename}\")\n",
        "  else:\n",
        "    print(f\"File is already localized, filename: {local_filename}\")\n",
        "  return local_filename\n",
        "\n",
        "\n",
        "pre_denovo_vcf_filename = resolve_filename(\"OFC.shard_000000.vcf.gz\")\n",
        "pre_denovo_bed_filename = resolve_filename(\"OFC.shard_000000.bed.gz\")\n",
        "post_denovo_annotations_filename = resolve_filename(\"OFC.shard_000000.annotation.bed.gz\")\n",
        "post_denovo_denovo_only_vars_filename = resolve_filename(\"OFC.shard_000000.denovo.bed.gz\")\n",
        "flipbook_input_txt_filename = resolve_filename(\"flipbook-input-example.txt\")\n",
        "flipbook_output_tsv_filename = resolve_filename(\"flipbook-output-example.tsv\")"
      ],
      "metadata": {
        "colab": {
          "base_uri": "https://localhost:8080/"
        },
        "id": "lnVvxuUASYou",
        "outputId": "d848f300-e220-4d42-f168-b030175f8620"
      },
      "execution_count": 14,
      "outputs": [
        {
          "output_type": "stream",
          "name": "stdout",
          "text": [
            "File is already localized, filename: ./denovo/OFC.shard_000000.vcf.gz\n",
            "File is already localized, filename: ./denovo/OFC.shard_000000.bed.gz\n",
            "File is already localized, filename: ./denovo/OFC.shard_000000.annotation.bed.gz\n",
            "File is already localized, filename: ./denovo/OFC.shard_000000.denovo.bed.gz\n",
            "File is already localized, filename: ./denovo/flipbook-input-example.txt\n",
            "File is already localized, filename: ./denovo/flipbook-output-example.tsv\n"
          ]
        }
      ]
    },
    {
      "cell_type": "code",
      "source": [
        "with gzip.open(pre_denovo_bed_filename, \"rb\") as f:\n",
        "  pre_denovo_df = pd.read_csv(f, sep=\"\\t\")\n",
        "pre_denovo_df.shape"
      ],
      "metadata": {
        "colab": {
          "base_uri": "https://localhost:8080/"
        },
        "id": "JNNy5ixAeYwP",
        "outputId": "9e088f06-e7d6-46c2-d7e3-f5d12f3edfc3"
      },
      "execution_count": 23,
      "outputs": [
        {
          "output_type": "execute_result",
          "data": {
            "text/plain": [
              "(4000, 90)"
            ]
          },
          "metadata": {},
          "execution_count": 23
        }
      ]
    },
    {
      "cell_type": "code",
      "source": [
        "with gzip.open(post_denovo_annotations_filename, \"rb\") as f:\n",
        "  post_denovo_annotated_df = pd.read_csv(f, sep=\"\\t\")\n",
        "post_denovo_annotated_df.shape"
      ],
      "metadata": {
        "colab": {
          "base_uri": "https://localhost:8080/"
        },
        "id": "oSKjNz-Dey0d",
        "outputId": "0f6f5fc2-c540-4f8f-d0c9-d5fe6717b55b"
      },
      "execution_count": 24,
      "outputs": [
        {
          "output_type": "stream",
          "name": "stderr",
          "text": [
            "<ipython-input-24-7373bfdc5526>:2: DtypeWarning: Columns (9,10,15,16,18,19,21,24,25,26,27,28,29,30,84,109,110,111,112,117,118,119,120) have mixed types. Specify dtype option on import or set low_memory=False.\n",
            "  post_denovo_annotated_df = pd.read_csv(f, sep=\"\\t\")\n"
          ]
        },
        {
          "output_type": "execute_result",
          "data": {
            "text/plain": [
              "(134817, 129)"
            ]
          },
          "metadata": {},
          "execution_count": 24
        }
      ]
    },
    {
      "cell_type": "code",
      "source": [
        "with gzip.open(post_denovo_denovo_only_vars_filename, \"rb\") as f:\n",
        "  post_denovo_filtered_df = pd.read_csv(f, sep=\"\\t\")\n",
        "post_denovo_filtered_df.shape"
      ],
      "metadata": {
        "colab": {
          "base_uri": "https://localhost:8080/"
        },
        "id": "is21AxtQfNyc",
        "outputId": "9989c9a4-c137-41d8-bee4-1c4860223e14"
      },
      "execution_count": 25,
      "outputs": [
        {
          "output_type": "execute_result",
          "data": {
            "text/plain": [
              "(271, 129)"
            ]
          },
          "metadata": {},
          "execution_count": 25
        }
      ]
    },
    {
      "cell_type": "code",
      "source": [
        "added_column_names = set(post_denovo_filtered_df.columns) - set(pre_denovo_df.columns)\n",
        "print(len(added_column_names))\n",
        "print(added_column_names)"
      ],
      "metadata": {
        "colab": {
          "base_uri": "https://localhost:8080/"
        },
        "id": "sr3vPTCag8f0",
        "outputId": "41b672d8-36eb-4b29-dc46-6ce1598d8fbf"
      },
      "execution_count": 28,
      "outputs": [
        {
          "output_type": "stream",
          "name": "stdout",
          "text": [
            "40\n",
            "{'GT', 'paternal_srgq', 'PE_GT', 'PE_GQ', 'in_gd', 'maternal_srgq', 'keep_gq', 'maternal_gq', 'is_cpx', 'num_parents_family', 'chrom', 'EVIDENCE_FIX', 'paternal_rdcn', 'GQ', 'RD_GQ', 'chrom_type_family', 'name_famid', 'is_depth_only', 'RD_CN', 'paternal_pegq', 'maternal_pegq', 'filter_flag', 'AF_parents', 'is_small_cnv', 'EV', 'paternal_gq', 'SR_GT', 'family_id', 'chrom_type_sample', 'num_children', 'maternal_rdcn', 'SR_GQ', 'overlap_parent', 'contains_RD', 'is_de_novo', 'is_depth_only_small', 'is_duplicated', 'sample', 'num_parents', 'is_large_cnv'}\n"
          ]
        }
      ]
    },
    {
      "cell_type": "code",
      "source": [
        "flipbook_input_df = pd.read_csv(flipbook_input_txt_filename, sep=\"\\t\")\n",
        "flipbook_input_df.shape"
      ],
      "metadata": {
        "colab": {
          "base_uri": "https://localhost:8080/"
        },
        "id": "Fxqh5HK4j6uH",
        "outputId": "9a539949-1790-4d2a-80ba-5c7265002159"
      },
      "execution_count": 30,
      "outputs": [
        {
          "output_type": "execute_result",
          "data": {
            "text/plain": [
              "(58, 145)"
            ]
          },
          "metadata": {},
          "execution_count": 30
        }
      ]
    },
    {
      "cell_type": "code",
      "source": [
        "flipbook_output_df = pd.read_csv(flipbook_output_tsv_filename, sep=\"\\t\")\n",
        "flipbook_output_df.shape"
      ],
      "metadata": {
        "colab": {
          "base_uri": "https://localhost:8080/"
        },
        "id": "DxlIfq2lkYoX",
        "outputId": "66b5c594-9905-427a-9830-e12e7b063be0"
      },
      "execution_count": 31,
      "outputs": [
        {
          "output_type": "execute_result",
          "data": {
            "text/plain": [
              "(2134, 4)"
            ]
          },
          "metadata": {},
          "execution_count": 31
        }
      ]
    },
    {
      "cell_type": "code",
      "source": [
        "flipbook_input_df.columns"
      ],
      "metadata": {
        "colab": {
          "base_uri": "https://localhost:8080/"
        },
        "id": "xfeSa6XMkmlf",
        "outputId": "beef4f65-5b79-41a5-b34c-2b6eba28b103"
      },
      "execution_count": 34,
      "outputs": [
        {
          "output_type": "stream",
          "name": "stdout",
          "text": [
            "Index(['Path', 'chrom', 'start', 'end', 'name', 'svtype', 'sample', 'samples',\n",
            "       'AC', 'ALGORITHMS',\n",
            "       ...\n",
            "       'result', 'Reason_unsure_follow_up', 'Notes', 'reviewers',\n",
            "       'tiebreaker_reviewed', 'num_reviewers', 'tiebreaker_reviewer',\n",
            "       'tiebreaker_result', 'SV_plots_reviewed', 'result_final'],\n",
            "      dtype='object', length=145)\n"
          ]
        }
      ]
    },
    {
      "cell_type": "code",
      "source": [
        "x = set(flipbook_input_df.columns) - set(post_denovo_filtered_df.columns)\n",
        "print(len(x))"
      ],
      "metadata": {
        "colab": {
          "base_uri": "https://localhost:8080/"
        },
        "id": "xwuPN-mWo9Fa",
        "outputId": "c4c180af-e948-4efa-cae1-f78f7ab61396"
      },
      "execution_count": 35,
      "outputs": [
        {
          "output_type": "stream",
          "name": "stdout",
          "text": [
            "16\n"
          ]
        }
      ]
    },
    {
      "cell_type": "code",
      "source": [
        "print(x)"
      ],
      "metadata": {
        "colab": {
          "base_uri": "https://localhost:8080/"
        },
        "id": "YOFvTNgdpJMw",
        "outputId": "f7ccbd4e-0893-4bbf-c443-9ddbbac9c280"
      },
      "execution_count": 36,
      "outputs": [
        {
          "output_type": "stream",
          "name": "stdout",
          "text": [
            "{'tiebreaker_reviewed', 'Notes', 'Reason_unsure_follow_up', 'reviewers', 'batch', 'num_reviewers', 'sample_name', 'tiebreaker_reviewer', 'tiebreaker_result', 'ID', 'SV_plots_reviewed', 'result_final', 'result', 'cohort', 'Path', 'median_coverage'}\n"
          ]
        }
      ]
    },
    {
      "cell_type": "code",
      "source": [
        "flipbook_output_df.columns"
      ],
      "metadata": {
        "colab": {
          "base_uri": "https://localhost:8080/"
        },
        "id": "4bqxjWfopTts",
        "outputId": "928f4349-0900-4a21-f462-ec055b8971a8"
      },
      "execution_count": 37,
      "outputs": [
        {
          "output_type": "execute_result",
          "data": {
            "text/plain": [
              "Index(['Path', 'Is de novo', 'Reason Unsure - Follow up', 'Notes'], dtype='object')"
            ]
          },
          "metadata": {},
          "execution_count": 37
        }
      ]
    },
    {
      "cell_type": "code",
      "source": [
        "print(set(post_denovo_annotated_df.columns))"
      ],
      "metadata": {
        "colab": {
          "base_uri": "https://localhost:8080/"
        },
        "id": "Xpn9IQRNrxhe",
        "outputId": "d1ff29bf-60cc-41e1-80e2-2a7ae95779e6"
      },
      "execution_count": 38,
      "outputs": [
        {
          "output_type": "stream",
          "name": "stdout",
          "text": [
            "{'end', 'CHR2', 'MALE_FREQ_HEMIALT', 'PE_GT', 'CN_FREQ', 'EVIDENCE', 'PREDICTED_MSV_EXON_OVERLAP', 'maternal_gq', 'MALE_FREQ_HEMIREF', 'CPX_INTERVALS', 'MALE_CN_FREQ', 'FEMALE_AF', 'paternal_rdcn', 'GQ', 'MALE_FREQ_HET', 'name_famid', 'RD_GQ', 'PREDICTED_TSS_DUP', 'FREQ_HOMREF', 'FEMALE_N_HOMALT', 'FEMALE_CN_NUMBER', 'PREDICTED_BREAKEND_EXONIC', 'is_small_cnv', 'SR_GT', 'MALE_CN_NONREF_COUNT', 'overlap_parent', 'FEMALE_CN_NONREF_COUNT', 'PREDICTED_NEAREST_TSS', 'PREDICTED_PROMOTER', 'MALE_CN_NONREF_FREQ', 'FEMALE_FREQ_HOMALT', 'is_large_cnv', 'GT', 'MALE_N_HOMALT', 'FEMALE_CN_COUNT', 'PREDICTED_INV_SPAN', 'UNRESOLVED_TYPE', 'MALE_CN_COUNT', 'PE_GQ', 'in_gd', 'PREDICTED_DUP_PARTIAL', 'gnomad_v2.1_sv_EUR_AF', 'END2', 'N_HET', 'PREDICTED_INTRAGENIC_EXON_DUP', 'N_HOMALT', 'FEMALE_N_HOMREF', 'num_parents_family', 'CN_COUNT', 'MALE_CN_NUMBER', 'MALE_AC', 'AF', 'chrom_type_family', 'RD_CN', 'maternal_pegq', 'FEMALE_N_BI_GENOS', 'gnomad_v2.1_sv_AFR_AF', 'AN', 'filter_flag', 'AF_parents', 'PREDICTED_INTERGENIC', 'MALE_AF', 'PREDICTED_LOF', 'FEMALE_FREQ_HOMREF', 'PREDICTED_NONCODING_SPAN', 'FEMALE_CN_NONREF_FREQ', 'MALE_FREQ_HOMREF', 'MALE_N_HEMIREF', 'gnomad_v2.1_sv_AF', 'is_de_novo', 'END', 'CN_NONREF_FREQ', 'is_depth_only_small', 'MALE_N_HOMREF', 'AC', 'sample', 'start', 'FEMALE_AN', 'maternal_srgq', 'SOURCE', 'FEMALE_CN_FREQ', 'name', 'MALE_N_HET', 'gnomad_v2.1_sv_SVID', 'FEMALE_AC', 'is_depth_only', 'CN_NUMBER', 'samples', 'SVTYPE', 'MALE_N_BI_GENOS', 'SVLEN', 'CPX_TYPE', 'family_id', 'num_children', 'PREDICTED_INTRONIC', 'gnomad_v2.1_sv_EAS_AF', 'maternal_rdcn', 'MALE_AN', 'svtype', 'STRANDS', 'is_duplicated', 'num_parents', 'FEMALE_N_HET', 'paternal_srgq', 'FREQ_HET', 'keep_gq', 'MALE_FREQ_HOMALT', 'FILTER', 'is_cpx', 'FEMALE_FREQ_HET', 'chrom', 'CN_NONREF_COUNT', 'PREDICTED_UTR', 'N_BI_GENOS', 'PREDICTED_COPY_GAIN', 'paternal_pegq', 'EV', 'ALGORITHMS', 'PREDICTED_PARTIAL_EXON_DUP', 'paternal_gq', 'FREQ_HOMALT', 'chrom_type_sample', 'SR_GQ', 'contains_RD', 'PREDICTED_NONCODING_BREAKPOINT', 'MALE_N_HEMIALT', 'gnomad_v2.1_sv_AMR_AF', 'EVIDENCE_FIX', 'N_HOMREF'}\n"
          ]
        }
      ]
    },
    {
      "cell_type": "code",
      "source": [
        "# Q: how do you match between the input and output of flipbook? the following should not have 0 rows, instead the number of the rows should be equal to the flipbook input and output.\n",
        "labeled_df = pd.merge(\n",
        "    flipbook_input_df, flipbook_output_df, on=\"Path\",\n",
        "    how=\"inner\")  # Will contain rows that have matching values in both dataframes.\n",
        "labeled_df.shape"
      ],
      "metadata": {
        "colab": {
          "base_uri": "https://localhost:8080/"
        },
        "id": "U4wf72vmuzwi",
        "outputId": "5d744e59-a9fa-4919-eb7f-a350e852052b"
      },
      "execution_count": 43,
      "outputs": [
        {
          "output_type": "execute_result",
          "data": {
            "text/plain": [
              "(0, 148)"
            ]
          },
          "metadata": {},
          "execution_count": 43
        }
      ]
    },
    {
      "cell_type": "code",
      "source": [
        "labeled_df.columns"
      ],
      "metadata": {
        "colab": {
          "base_uri": "https://localhost:8080/"
        },
        "id": "IAqY6CmlxHec",
        "outputId": "cf2384b3-c14e-46cc-8a8f-89c023152264"
      },
      "execution_count": 44,
      "outputs": [
        {
          "output_type": "execute_result",
          "data": {
            "text/plain": [
              "Index(['Path', 'chrom', 'start', 'end', 'name', 'svtype', 'sample', 'samples',\n",
              "       'AC', 'ALGORITHMS',\n",
              "       ...\n",
              "       'reviewers', 'tiebreaker_reviewed', 'num_reviewers',\n",
              "       'tiebreaker_reviewer', 'tiebreaker_result', 'SV_plots_reviewed',\n",
              "       'result_final', 'Is de novo', 'Reason Unsure - Follow up', 'Notes_y'],\n",
              "      dtype='object', length=148)"
            ]
          },
          "metadata": {},
          "execution_count": 44
        }
      ]
    },
    {
      "cell_type": "code",
      "source": [
        "final_df = pd.merge(post_denovo_annotated_df, labeled_df, on=[\"chrom\", \"start\", \"end\"])\n",
        "print(final_df.shape)"
      ],
      "metadata": {
        "colab": {
          "base_uri": "https://localhost:8080/"
        },
        "id": "wPbWLXrsxTmx",
        "outputId": "0dedb5f5-7b9c-4183-9dcb-4aab6fb0dbdf"
      },
      "execution_count": 47,
      "outputs": [
        {
          "output_type": "stream",
          "name": "stdout",
          "text": [
            "(0, 274)\n"
          ]
        }
      ]
    }
  ]
}