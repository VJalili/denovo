{
  "nbformat": 4,
  "nbformat_minor": 0,
  "metadata": {
    "colab": {
      "provenance": [],
      "authorship_tag": "ABX9TyPkA/Lj1oF8sC/PU45SK7Zj",
      "include_colab_link": true
    },
    "kernelspec": {
      "name": "python3",
      "display_name": "Python 3"
    },
    "language_info": {
      "name": "python"
    }
  },
  "cells": [
    {
      "cell_type": "markdown",
      "metadata": {
        "id": "view-in-github",
        "colab_type": "text"
      },
      "source": [
        "<a href=\"https://colab.research.google.com/github/VJalili/denovo/blob/main/denovo_filtering.ipynb\" target=\"_parent\"><img src=\"https://colab.research.google.com/assets/colab-badge.svg\" alt=\"Open In Colab\"/></a>"
      ]
    },
    {
      "cell_type": "code",
      "execution_count": null,
      "metadata": {
        "id": "NErfC2fWedEc"
      },
      "outputs": [],
      "source": [
        "# !gcloud init"
      ]
    },
    {
      "cell_type": "code",
      "source": [
        "import os"
      ],
      "metadata": {
        "id": "qIGv0QE_SUGk"
      },
      "execution_count": 3,
      "outputs": []
    },
    {
      "cell_type": "code",
      "source": [
        "from google.cloud import storage\n",
        "storage_client = storage.Client(project=\"broad-dsde-methods\")\n",
        "\n",
        "# This method uses the Google cloud storage library which performs faster\n",
        "# calling gsutil using `check_output`.\n",
        "def download_blob(bucket_name, blob_name, local_filename):\n",
        "  bucket = storage_client.get_bucket(bucket_name)\n",
        "  blob = bucket.blob(blob_name)\n",
        "  blob.download_to_filename(local_filename)\n",
        "\n",
        "def copy_object_to_bucket(bucket_name, blob_name, source_filename):\n",
        "  bucket = storage_client.get_bucket(bucket_name)\n",
        "  blob = bucket.blob(blob_name)\n",
        "  blob.upload_from_filename(source_filename)"
      ],
      "metadata": {
        "id": "vayyxfXmSN1U"
      },
      "execution_count": 2,
      "outputs": []
    },
    {
      "cell_type": "code",
      "source": [
        "working_dir = os.path.join(\".\", \"denovo\")\n",
        "if not os.path.exists(working_dir):\n",
        "  os.makedirs(working_dir)"
      ],
      "metadata": {
        "id": "LN9DqsliSRus"
      },
      "execution_count": 8,
      "outputs": []
    },
    {
      "cell_type": "code",
      "source": [
        "def resolve_filename(filename):\n",
        "  local_filename = os.path.join(working_dir, filename)\n",
        "  if not os.path.isfile(local_filename):\n",
        "    download_blob(\"broad-dsde-methods-vj\", f\"denovo-sv/{filename}\", local_filename)\n",
        "    print(f\"Localized {filename}\")\n",
        "  else:\n",
        "    print(f\"File is already localized, filename: {local_filename}\")\n",
        "  return local_filename\n",
        "\n",
        "\n",
        "pre_denovo_vcf_filename = resolve_filename(\"OFC.shard_000000.vcf.gz\")\n",
        "pre_denovo_bed_filename = resolve_filename(\"OFC.shard_000000.bed.gz\")\n",
        "post_denovo_annotations_filename = resolve_filename(\"OFC.shard_000000.annotation.bed.gz\")\n",
        "post_denovo_denovo_only_vars_filename = resolve_filename(\"OFC.shard_000000.denovo.bed.gz\")"
      ],
      "metadata": {
        "colab": {
          "base_uri": "https://localhost:8080/"
        },
        "id": "lnVvxuUASYou",
        "outputId": "deb440b8-60e8-48ca-85cb-1c660a96520c"
      },
      "execution_count": 11,
      "outputs": [
        {
          "output_type": "stream",
          "name": "stdout",
          "text": [
            "File is already localized, filename: ./denovo/OFC.shard_000000.vcf.gz\n",
            "File is already localized, filename: ./denovo/OFC.shard_000000.bed.gz\n",
            "File is already localized, filename: ./denovo/OFC.shard_000000.annotation.bed.gz\n",
            "File is already localized, filename: ./denovo/OFC.shard_000000.denovo.bed.gz\n"
          ]
        }
      ]
    }
  ]
}