{
 "cells": [
  {
   "cell_type": "code",
   "execution_count": 1,
   "metadata": {},
   "outputs": [],
   "source": [
    "import os\n",
    "import pandas as pd\n",
    "import gzip\n",
    "from pysam import VariantFile\n",
    "from dataclasses import dataclass, field\n",
    "from collections import defaultdict\n",
    "from typing import Set, Dict, List\n",
    "import random\n",
    "from tqdm import tqdm\n",
    "import numpy as np\n",
    "import string\n",
    "from pathlib import Path"
   ]
  },
  {
   "cell_type": "code",
   "execution_count": 2,
   "metadata": {},
   "outputs": [],
   "source": [
    "random.seed(10)"
   ]
  },
  {
   "cell_type": "code",
   "execution_count": 3,
   "metadata": {},
   "outputs": [],
   "source": [
    "working_dir = \"./data/\"\n",
    "local_filename = \"GMKF-OFC-GREGoR-denovo-SV-Master-20240918.txt\""
   ]
  },
  {
   "cell_type": "code",
   "execution_count": 4,
   "metadata": {},
   "outputs": [],
   "source": [
    "@dataclass\n",
    "class IndividualRelationship:\n",
    "    family_id: str\n",
    "    individual_id: str\n",
    "    father_id: str\n",
    "    mother_id: str\n",
    "    gender: int\n",
    "    affected: int\n",
    "\n",
    "\n",
    "@dataclass\n",
    "class Pedigree:\n",
    "    fathers: Set[str] = field(default_factory=set)\n",
    "    mothers: Set[str] = field(default_factory=set)\n",
    "    relationships: Dict[str, IndividualRelationship] = field(default_factory=dict)\n",
    "    updated_relationships: Dict[str, IndividualRelationship] = field(default_factory=dict)  # includes the original relationship and swapped parents when possible\n",
    "    subject_variants: Dict[str, List[str]] = field(default_factory=dict)  # a per-sample list of inherited variants made synthetic de novo by swapped parents\n",
    "\n",
    "    \n",
    "@dataclass\n",
    "class FilePair:\n",
    "    vcf_filename: str\n",
    "    ped_filename: str\n",
    "    pedigree: Pedigree = field(default_factory=Pedigree)"
   ]
  },
  {
   "cell_type": "code",
   "execution_count": 5,
   "metadata": {},
   "outputs": [],
   "source": [
    "def grf(filename):  # get resolved filename\n",
    "    return os.path.join(working_dir, filename)\n",
    "\n",
    "vcf_ped_pair_filenames = [\n",
    "    FilePair(grf(\"mg_batch20.annotated.vcf.gz\"), grf(\"mg_batch20_ware-20231120.VCFids.ped\")),  # ware\n",
    "    FilePair(grf(\"m4_batch03.annotated.vcf.gz\"), grf(\"mg_batch12_krantz-20230922.VCFids.ped\")),  # krantz\n",
    "    FilePair(grf(\"m2_batch11.annotated.vcf.gz\"), grf(\"mg_batch02_alba.ped.txt\")),  # butali (not in the workspace)\n",
    "    FilePair(grf(\"m2_batch10.annotated.vcf.gz\"), grf(\"mg_batch01_ped.tsv\")),  # beaty\n",
    "    FilePair(grf(\"mg_batch13.annotated.vcf.gz\"), grf(\"mg_batch13_alba.ped.txt\")),  # leslie\n",
    "    FilePair(grf(\"mg_batch03.annotated.vcf.gz\"), grf(\"ped_mg_batch03.tsv\")), # chung (not in the workspace)\n",
    "    FilePair(grf(\"mg_batch05.annotated.vcf.gz\"), grf(\"mg_batch05_ped.txt\")), # engle (not in the workspace)\n",
    "    FilePair(grf(\"mg_batch17.annotated.vcf.gz\"), grf(\"mg_batch17_ped.tsv\")), # marazita (not in the workspace)\n",
    "    FilePair(grf(\"mg_batch08.annotated.vcf.gz\"), grf(\"mg_batch08_gleeson-20230727.VCFids.ped\")),  # gleeson\n",
    "    FilePair(grf(\"mg_batch07.annotated.vcf.gz\"), grf(\"ped_mg_batch07.tsv\")),  # gharavi\n",
    "    # FilePair(\"phase4_all_batches.annotated.vcf.gz\", \"...\"),  # gregor\n",
    "    # FilePair(\"second_run_cp_cohort.annotated.vcf.gz\", \"...\")  # OFC\n",
    "]"
   ]
  },
  {
   "cell_type": "code",
   "execution_count": 6,
   "metadata": {},
   "outputs": [
    {
     "name": "stderr",
     "output_type": "stream",
     "text": [
      "/var/folders/6b/x9ksqf1d63j3bsvvls_04wfr0000gq/T/ipykernel_89777/3919829110.py:1: DtypeWarning: Columns (85,106,107,114,115,126,130,133,135,136,137,138) have mixed types. Specify dtype option on import or set low_memory=False.\n",
      "  df = pd.read_csv(os.path.join(working_dir, local_filename), sep=\"\\t\")\n"
     ]
    }
   ],
   "source": [
    "df = pd.read_csv(os.path.join(working_dir, local_filename), sep=\"\\t\")\n",
    "df = df.reset_index() # to make sure indexes pair with the number of rows"
   ]
  },
  {
   "cell_type": "code",
   "execution_count": 7,
   "metadata": {},
   "outputs": [],
   "source": [
    "# Drop rows with NaN in the result_final column\n",
    "df = df[df[\"result_final\"].notna()]"
   ]
  },
  {
   "cell_type": "markdown",
   "metadata": {},
   "source": [
    "### Extract labeled true not de novo variants (inherited variants)"
   ]
  },
  {
   "cell_type": "code",
   "execution_count": 8,
   "metadata": {},
   "outputs": [],
   "source": [
    "inherited_variants = df[df[\"result_final\"] != \"yes\"]"
   ]
  },
  {
   "cell_type": "code",
   "execution_count": 9,
   "metadata": {},
   "outputs": [
    {
     "name": "stdout",
     "output_type": "stream",
     "text": [
      "All variants:       19,575\n",
      "Inherited variants: 16,337\n"
     ]
    }
   ],
   "source": [
    "print(f\"All variants:       {df.shape[0]:,}\")\n",
    "print(f\"Inherited variants: {inherited_variants.shape[0]:,}\")"
   ]
  },
  {
   "cell_type": "markdown",
   "metadata": {},
   "source": [
    "### Data prepration: Extract parents in each PED file"
   ]
  },
  {
   "cell_type": "code",
   "execution_count": 10,
   "metadata": {},
   "outputs": [],
   "source": [
    "ped_file_header = \"\"\n",
    "\n",
    "for file_pair in vcf_ped_pair_filenames:\n",
    "    ped_filename = file_pair.ped_filename\n",
    "    with open(ped_filename, \"r\") as f:\n",
    "        p = file_pair.pedigree\n",
    "        ped_file_header = f.readline()\n",
    "        for line in f:\n",
    "            cols = line.strip().split(\"\\t\")\n",
    "            indiv = cols[1]\n",
    "            father = cols[2]\n",
    "            mother = cols[3]\n",
    "\n",
    "            p.fathers.add(father)\n",
    "            p.mothers.add(mother)\n",
    "            p.relationships[indiv] = IndividualRelationship(cols[0], indiv, father, mother, cols[4], cols[5])\n",
    "        p.updated_relationships = p.relationships"
   ]
  },
  {
   "cell_type": "markdown",
   "metadata": {},
   "source": [
    "### Reorganize the inherited variants\n",
    "\n",
    "Assuming `sample` in the `df` refers to the individual ID, and we should be able to find a hit for that sample ID in only one of the PED files."
   ]
  },
  {
   "cell_type": "code",
   "execution_count": 11,
   "metadata": {},
   "outputs": [],
   "source": [
    "def get_pair(individual_id):\n",
    "    for file_pair in vcf_ped_pair_filenames:\n",
    "        if individual_id in file_pair.pedigree.relationships:\n",
    "            return file_pair\n",
    "    # print(f\"Individual ID ({individual_id}) not found in the PED files.\")  # TEMP \n",
    "    raise KeyError(f\"Individual ID ({individual_id}) not found in the PED files.\")"
   ]
  },
  {
   "cell_type": "code",
   "execution_count": 12,
   "metadata": {},
   "outputs": [],
   "source": [
    "def get_samples_genotypes(variant, sample_ids):\n",
    "    samples_genotype = {}\n",
    "    for sample_id in sample_ids:\n",
    "        sample = variant.samples.get(sample_id)\n",
    "        if sample is None:\n",
    "            samples_genotype[sample_id] = False\n",
    "        else:\n",
    "            samples_genotype[sample_id] = True if sample.get(\"GT\") == (0, 0) else False\n",
    "    \n",
    "    # True: variant is not in the parent (i.e., de novo w.r.t that parent) and can be used for swapping\n",
    "    # False: either the parent does not have a genotype for that variant, or the parent also has this variant, hence, cannot be used for the swapping\n",
    "    return samples_genotype"
   ]
  },
  {
   "cell_type": "code",
   "execution_count": 13,
   "metadata": {},
   "outputs": [],
   "source": [
    "def get_best_parent_swap(fathers_genotypes, mothers_genotypes, original_relationship: IndividualRelationship):\n",
    "    permutations = defaultdict(list)\n",
    "    for variant_id in fathers_genotypes.keys():  # iterate over genotypes of each variant for parent combinations\n",
    "        for father_id, father_not_carries_variant in fathers_genotypes[variant_id].items():\n",
    "            for mother_id, mother_not_carries_variant in mothers_genotypes[variant_id].items():\n",
    "                if father_not_carries_variant and mother_not_carries_variant:\n",
    "                    permutations[(father_id, mother_id)].append(variant_id)\n",
    "\n",
    "    if len(permutations) == 0:\n",
    "        # This happens when no combination of parents where neither is carring the variant is found. \n",
    "        return None\n",
    "\n",
    "    max_potential_variants_count = -1\n",
    "    for _, potential_variants in permutations.items():\n",
    "        max_potential_variants_count = max(max_potential_variants_count, len(potential_variants))\n",
    "\n",
    "    good_permutations = {x: variants for x, variants in permutations.items() if len(variants) == max_potential_variants_count}\n",
    "    best_permutations = {x: variants for x, variants in good_permutations.items() if x[0] == original_relationship.father_id or x[1] == original_relationship.mother_id}\n",
    "\n",
    "    # returning the first item from best matches, otherwise, the first items from the good matches.\n",
    "    suggested_swap = next(iter(best_permutations.items())) if len(best_permutations) > 0 else next(iter(good_permutations.items()))\n",
    "\n",
    "    return (\n",
    "        IndividualRelationship(\n",
    "            family_id= \"synthetic_\" + \"\".join(random.choices(string.ascii_lowercase + string.digits, k=10)),\n",
    "            individual_id=original_relationship.individual_id, \n",
    "            father_id=suggested_swap[0][0], \n",
    "            mother_id=suggested_swap[0][1], \n",
    "            gender=original_relationship.gender, \n",
    "            affected=original_relationship.affected),\n",
    "        suggested_swap[1])"
   ]
  },
  {
   "cell_type": "code",
   "execution_count": 14,
   "metadata": {},
   "outputs": [],
   "source": [
    "test_max_samples_to_process = 20"
   ]
  },
  {
   "cell_type": "code",
   "execution_count": 15,
   "metadata": {},
   "outputs": [
    {
     "name": "stderr",
     "output_type": "stream",
     "text": [
      "Processing Samples:   1%|          | 28/4248 [00:09<25:01,  2.81it/s]\n"
     ]
    }
   ],
   "source": [
    "test_processed_samples = 0\n",
    "\n",
    "for sample, sample_variants_df in tqdm(\n",
    "    inherited_variants.groupby(\"sample\"), \n",
    "    total=inherited_variants['sample'].nunique(), \n",
    "    desc=\"Processing Samples\"):\n",
    "\n",
    "    try:\n",
    "        file_pair = get_pair(sample)\n",
    "    except:\n",
    "        continue\n",
    "    relationship = file_pair.pedigree.relationships[sample]\n",
    "\n",
    "    fathers_genotypes = {}\n",
    "    mothers_genotypes = {}\n",
    "\n",
    "    vcf = VariantFile(file_pair.vcf_filename)\n",
    "    for _, row in sample_variants_df.iterrows():\n",
    "        for variant in vcf.fetch(row[\"chrom\"], row[\"start\"], row[\"end\"]):\n",
    "            individual = variant.samples.get(sample)\n",
    "            if individual.get(\"GT\") == (0, 0):\n",
    "                # Discussed with Harrison. \n",
    "                # There are cases this could be a valid de novo, \n",
    "                # but since very rare, we're excluding them.\n",
    "                continue\n",
    "\n",
    "            original_father = variant.samples.get(relationship.father_id)\n",
    "            original_mother = variant.samples.get(relationship.mother_id)\n",
    "            if original_father is None:\n",
    "                print(f\"A sample with the father ID ({relationship.father_id}) not found in the VCF. Skipping this variant\")\n",
    "                continue\n",
    "            if original_mother is None:\n",
    "                print(f\"A sample with the mother ID ({relationship.mother_id}) not found in the VCF. Skipping this variant\")\n",
    "                continue\n",
    "\n",
    "            if original_father.get(\"GT\") == (0, 0) and original_mother.get(\"GT\") == (0, 0):\n",
    "                # Same as above, discussed with Harrison. \n",
    "                # There are cases this could be a valid de novo, \n",
    "                # but since very rare, we're excluding them.\n",
    "                continue\n",
    "\n",
    "            fathers_genotypes[variant.id] = get_samples_genotypes(variant, file_pair.pedigree.fathers)\n",
    "            mothers_genotypes[variant.id] = get_samples_genotypes(variant, file_pair.pedigree.mothers)\n",
    "\n",
    "    suggested_swap = get_best_parent_swap(fathers_genotypes, mothers_genotypes, relationship)\n",
    "    if suggested_swap is None:\n",
    "        # i.e., no parent combination making at least one of the variants of sample a synthetic de novo is found.\n",
    "        continue\n",
    "    \n",
    "    file_pair.pedigree.updated_relationships[sample] = suggested_swap[0]\n",
    "    file_pair.pedigree.subject_variants[sample] = suggested_swap[1]\n",
    "\n",
    "    test_processed_samples += 1\n",
    "    if test_processed_samples >= test_max_samples_to_process:\n",
    "        break\n"
   ]
  },
  {
   "cell_type": "code",
   "execution_count": 16,
   "metadata": {},
   "outputs": [],
   "source": [
    "assert \\\n",
    "    len(file_pair.pedigree.relationships) == len(file_pair.pedigree.updated_relationships), \\\n",
    "    \"The number of items in the original and updated PED file do not match.\""
   ]
  },
  {
   "cell_type": "markdown",
   "metadata": {},
   "source": [
    "### Serialize updated PED files and list of subject variants"
   ]
  },
  {
   "cell_type": "code",
   "execution_count": 17,
   "metadata": {},
   "outputs": [
    {
     "name": "stdout",
     "output_type": "stream",
     "text": [
      "Serialized updated relationships to ./data/mg_batch20_ware-20231120.VCFids_updated.ped\n",
      "0 subject variants are serialized to ./data/mg_batch20_ware-20231120.VCFids_subject_variants_ids.tsv\n",
      "Serialized updated relationships to ./data/mg_batch12_krantz-20230922.VCFids_updated.ped\n",
      "0 subject variants are serialized to ./data/mg_batch12_krantz-20230922.VCFids_subject_variants_ids.tsv\n",
      "Serialized updated relationships to ./data/mg_batch02_alba.ped_updated.ped\n",
      "0 subject variants are serialized to ./data/mg_batch02_alba.ped_subject_variants_ids.tsv\n",
      "Serialized updated relationships to ./data/mg_batch01_ped_updated.ped\n",
      "0 subject variants are serialized to ./data/mg_batch01_ped_subject_variants_ids.tsv\n",
      "Serialized updated relationships to ./data/mg_batch13_alba.ped_updated.ped\n",
      "0 subject variants are serialized to ./data/mg_batch13_alba.ped_subject_variants_ids.tsv\n",
      "Serialized updated relationships to ./data/ped_mg_batch03_updated.ped\n",
      "0 subject variants are serialized to ./data/ped_mg_batch03_subject_variants_ids.tsv\n",
      "Serialized updated relationships to ./data/mg_batch05_ped_updated.ped\n",
      "0 subject variants are serialized to ./data/mg_batch05_ped_subject_variants_ids.tsv\n",
      "Serialized updated relationships to ./data/mg_batch17_ped_updated.ped\n",
      "20 subject variants are serialized to ./data/mg_batch17_ped_subject_variants_ids.tsv\n",
      "Serialized updated relationships to ./data/mg_batch08_gleeson-20230727.VCFids_updated.ped\n",
      "0 subject variants are serialized to ./data/mg_batch08_gleeson-20230727.VCFids_subject_variants_ids.tsv\n",
      "Serialized updated relationships to ./data/ped_mg_batch07_updated.ped\n",
      "0 subject variants are serialized to ./data/ped_mg_batch07_subject_variants_ids.tsv\n"
     ]
    }
   ],
   "source": [
    "for file_pair in vcf_ped_pair_filenames:\n",
    "    updated_ped_filename = os.path.join(working_dir, Path(file_pair.ped_filename).stem + \"_updated.ped\")\n",
    "    subject_vars_filename = os.path.join(working_dir, Path(file_pair.ped_filename).stem + \"_subject_variants_ids.tsv\")\n",
    "\n",
    "    with open(updated_ped_filename, \"w\") as f:\n",
    "        f.write(ped_file_header.strip() + \"\\n\")\n",
    "        for _, r in file_pair.pedigree.updated_relationships.items():\n",
    "            f.write(\"\\t\".join([r.family_id, r.individual_id, r.father_id, r.mother_id, r.gender, r.affected]) + \"\\n\")\n",
    "    print(f\"Serialized updated relationships to {updated_ped_filename}\")\n",
    "\n",
    "    with open(subject_vars_filename, \"w\") as f:\n",
    "        f.write(\"\\t\".join([\"sample_id\", \"variants_ids\"]) + \"\\n\")\n",
    "        for s_id, v_ids in file_pair.pedigree.subject_variants.items():\n",
    "            f.write(\"\\t\".join([s_id, \";\".join(v_ids)]) + \"\\n\")\n",
    "    print(f\"{len(file_pair.pedigree.subject_variants)} subject variants are serialized to {subject_vars_filename}\")"
   ]
  }
 ],
 "metadata": {
  "kernelspec": {
   "display_name": ".venv",
   "language": "python",
   "name": "python3"
  },
  "language_info": {
   "codemirror_mode": {
    "name": "ipython",
    "version": 3
   },
   "file_extension": ".py",
   "mimetype": "text/x-python",
   "name": "python",
   "nbconvert_exporter": "python",
   "pygments_lexer": "ipython3",
   "version": "3.10.12"
  }
 },
 "nbformat": 4,
 "nbformat_minor": 2
}
