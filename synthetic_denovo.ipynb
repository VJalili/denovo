{
 "cells": [
  {
   "cell_type": "code",
   "execution_count": 305,
   "metadata": {},
   "outputs": [],
   "source": [
    "import os\n",
    "import pandas as pd\n",
    "import gzip\n",
    "from pysam import VariantFile\n",
    "from dataclasses import dataclass, field\n",
    "from collections import defaultdict\n",
    "from typing import Set, Dict, List\n",
    "import random\n",
    "import tqdm\n",
    "import numpy as np"
   ]
  },
  {
   "cell_type": "code",
   "execution_count": 254,
   "metadata": {},
   "outputs": [],
   "source": [
    "random.seed(10)"
   ]
  },
  {
   "cell_type": "code",
   "execution_count": 255,
   "metadata": {},
   "outputs": [],
   "source": [
    "working_dir = \"./data/\"\n",
    "local_filename = \"GMKF-OFC-GREGoR-denovo-SV-Master-20240918.txt\""
   ]
  },
  {
   "cell_type": "code",
   "execution_count": 256,
   "metadata": {},
   "outputs": [],
   "source": [
    "@dataclass\n",
    "class IndividualRelationship:\n",
    "    family_id: str\n",
    "    individual_id: str\n",
    "    father_id: str\n",
    "    mother_id: str\n",
    "    gender: int\n",
    "    affected: int\n",
    "\n",
    "\n",
    "@dataclass\n",
    "class Pedigree:\n",
    "    fathers: Set[str] = field(default_factory=set)\n",
    "    mothers: Set[str] = field(default_factory=set)\n",
    "    relationships: Dict[str, IndividualRelationship] = field(default_factory=dict)\n",
    "\n",
    "    \n",
    "@dataclass\n",
    "class FilePair:\n",
    "    vcf_filename: str\n",
    "    ped_filename: str\n",
    "    pedigree: Pedigree = field(default_factory=Pedigree)\n",
    "\n",
    "\n",
    "def grf(filename):  # get resolved filename\n",
    "    return os.path.join(working_dir, filename)\n",
    "\n",
    "vcf_ped_pair_filenames = [\n",
    "    FilePair(grf(\"mg_batch20.annotated.vcf.gz\"), grf(\"mg_batch20_ware-20231120.VCFids.ped\")),  # ware\n",
    "    FilePair(grf(\"m4_batch03.annotated.vcf.gz\"), grf(\"mg_batch12_krantz-20230922.VCFids.ped\")),  # krantz\n",
    "    FilePair(grf(\"m2_batch11.annotated.vcf.gz\"), grf(\"mg_batch02_alba.ped.txt\")),  # butali (not in the workspace)\n",
    "    FilePair(grf(\"m2_batch10.annotated.vcf.gz\"), grf(\"mg_batch01_ped.tsv\")),  # beaty\n",
    "    FilePair(grf(\"mg_batch13.annotated.vcf.gz\"), grf(\"mg_batch13_alba.ped.txt\")),  # leslie\n",
    "    FilePair(grf(\"mg_batch03.annotated.vcf.gz\"), grf(\"ped_mg_batch03.tsv\")), # chung (not in the workspace)\n",
    "    FilePair(grf(\"mg_batch05.annotated.vcf.gz\"), grf(\"mg_batch05_ped.txt\")), # engle (not in the workspace)\n",
    "    FilePair(grf(\"mg_batch17.annotated.vcf.gz\"), grf(\"mg_batch17_ped.tsv\")), # marazita (not in the workspace)\n",
    "    FilePair(grf(\"mg_batch08.annotated.vcf.gz\"), grf(\"mg_batch08_gleeson-20230727.VCFids.ped\")),  # gleeson\n",
    "    FilePair(grf(\"mg_batch07.annotated.vcf.gz\"), grf(\"ped_mg_batch07.tsv\")),  # gharavi\n",
    "    # FilePair(\"phase4_all_batches.annotated.vcf.gz\", \"...\"),  # gregor\n",
    "    # FilePair(\"second_run_cp_cohort.annotated.vcf.gz\", \"...\")  # OFC\n",
    "]"
   ]
  },
  {
   "cell_type": "code",
   "execution_count": 257,
   "metadata": {},
   "outputs": [
    {
     "name": "stderr",
     "output_type": "stream",
     "text": [
      "/var/folders/6b/x9ksqf1d63j3bsvvls_04wfr0000gq/T/ipykernel_64639/3919829110.py:1: DtypeWarning: Columns (85,106,107,114,115,126,130,133,135,136,137,138) have mixed types. Specify dtype option on import or set low_memory=False.\n",
      "  df = pd.read_csv(os.path.join(working_dir, local_filename), sep=\"\\t\")\n"
     ]
    }
   ],
   "source": [
    "df = pd.read_csv(os.path.join(working_dir, local_filename), sep=\"\\t\")\n",
    "df = df.reset_index() # to make sure indexes pair with the number of rows"
   ]
  },
  {
   "cell_type": "code",
   "execution_count": 258,
   "metadata": {},
   "outputs": [],
   "source": [
    "# Drop rows with NaN in the result_final column\n",
    "df = df[df[\"result_final\"].notna()]"
   ]
  },
  {
   "cell_type": "markdown",
   "metadata": {},
   "source": [
    "### Extract labeled true not de novo variants (inherited variants)"
   ]
  },
  {
   "cell_type": "code",
   "execution_count": 261,
   "metadata": {},
   "outputs": [],
   "source": [
    "inherited_variants = df[df[\"result_final\"] != \"yes\"]"
   ]
  },
  {
   "cell_type": "code",
   "execution_count": 262,
   "metadata": {},
   "outputs": [
    {
     "name": "stdout",
     "output_type": "stream",
     "text": [
      "All variants:       19,575\n",
      "Inherited variants: 16,337\n"
     ]
    }
   ],
   "source": [
    "print(f\"All variants:       {df.shape[0]:,}\")\n",
    "print(f\"Inherited variants: {inherited_variants.shape[0]:,}\")"
   ]
  },
  {
   "cell_type": "markdown",
   "metadata": {},
   "source": [
    "### Data prepration: Extract parents in each PED file"
   ]
  },
  {
   "cell_type": "code",
   "execution_count": 263,
   "metadata": {},
   "outputs": [],
   "source": [
    "for file_pair in vcf_ped_pair_filenames:\n",
    "    ped_filename = file_pair.ped_filename\n",
    "    with open(ped_filename, \"r\") as f:\n",
    "        p = file_pair.pedigree\n",
    "        f.readline()  # skip the header\n",
    "        for line in f:\n",
    "            cols = line.strip().split(\"\\t\")\n",
    "            indiv = cols[1]\n",
    "            father = cols[2]\n",
    "            mother = cols[3]\n",
    "\n",
    "            p.fathers.add(father)\n",
    "            p.mothers.add(mother)\n",
    "            p.relationships[indiv] = IndividualRelationship(cols[0], indiv, father, mother, cols[4], cols[5])"
   ]
  },
  {
   "cell_type": "markdown",
   "metadata": {},
   "source": [
    "### Reorganize the inherited variants\n",
    "\n",
    "Assuming `sample` in the `df` refers to the individual ID, and we should be able to find a hit for that sample ID in only one of the PED files."
   ]
  },
  {
   "cell_type": "code",
   "execution_count": 264,
   "metadata": {},
   "outputs": [],
   "source": [
    "def get_pair(individual_id):\n",
    "    for file_pair in vcf_ped_pair_filenames:\n",
    "        if individual_id in file_pair.pedigree.relationships:\n",
    "            return file_pair\n",
    "    # print(f\"Individual ID ({individual_id}) not found in the PED files.\")  # TEMP \n",
    "    raise KeyError(f\"Individual ID ({individual_id}) not found in the PED files.\")"
   ]
  },
  {
   "cell_type": "code",
   "execution_count": 281,
   "metadata": {},
   "outputs": [],
   "source": [
    "def get_samples_genotypes(variant, sample_ids):\n",
    "    samples_genotype = {}\n",
    "    for sample_id in sample_ids:\n",
    "        sample = variant.samples.get(sample_id)\n",
    "        if sample is None:\n",
    "            samples_genotype[sample_id] = False\n",
    "        else:\n",
    "            samples_genotype[sample_id] = True if sample.get(\"GT\") == (0, 0) else False\n",
    "    \n",
    "    # True: variant is not in the parent (i.e., de novo w.r.t that parent) and can be used for swapping\n",
    "    # False: either the parent does not have a genotype for that variant, or the parent also has this variant, hence, cannot be used for the swapping\n",
    "    return samples_genotype"
   ]
  },
  {
   "cell_type": "code",
   "execution_count": 322,
   "metadata": {},
   "outputs": [],
   "source": [
    "def get_best_parent_swap(fathers, mothers, father_id, mother_id):\n",
    "    permutations = defaultdict(int)\n",
    "    for variant_id in fathers.keys():\n",
    "        for father_id, father_not_carries_variant in fathers[variant_id].items():\n",
    "            for mother_id, mother_not_carries_variant in mothers[variant_id].items():\n",
    "                permutations[(father_id, mother_id)] += 1 if father_not_carries_variant and mother_not_carries_variant else 0\n",
    "    \n",
    "    highest_score = permutations[max(permutations, key=permutations.get)]\n",
    "    good_permutations = [x for x, score in permutations.items() if score == highest_score]\n",
    "\n",
    "    best_permutations = [x for x in good_permutations if x[0] == father_id or x[1] == mother_id]\n",
    "    return best_permutations[0] if len(best_permutations) > 0 else good_permutations[0]"
   ]
  },
  {
   "cell_type": "code",
   "execution_count": 323,
   "metadata": {},
   "outputs": [
    {
     "name": "stdout",
     "output_type": "stream",
     "text": [
      "('BS_2PEATVQM', 'BS_16ENYEWK')\n",
      "4\n"
     ]
    }
   ],
   "source": [
    "for sample, sample_variants_df in inherited_variants.groupby(\"sample\"):\n",
    "    \n",
    "    try:\n",
    "        file_pair = get_pair(sample)\n",
    "    except:\n",
    "        continue\n",
    "    relationship = file_pair.pedigree.relationships[sample]\n",
    "\n",
    "    fathers_genotypes = {}\n",
    "    mothers_genotypes = {}\n",
    "\n",
    "    vcf = VariantFile(file_pair.vcf_filename)\n",
    "    for _, row in sample_variants_df.iterrows():\n",
    "        for variant in vcf.fetch(row[\"chrom\"], row[\"start\"], row[\"end\"]):\n",
    "            individual = variant.samples.get(sample)\n",
    "            if individual.get(\"GT\") == (0, 0):\n",
    "                # Discussed with Harrison. \n",
    "                # There are cases this could be a valid de novo, \n",
    "                # but since very rare, we're excluding them.\n",
    "                continue\n",
    "\n",
    "            original_father = variant.samples.get(relationship.father_id)\n",
    "            original_mother = variant.samples.get(relationship.mother_id)\n",
    "            if original_father is None:\n",
    "                print(f\"A sample with the father ID ({relationship.father_id}) not found in the VCF. Skipping this variant\")\n",
    "                continue\n",
    "            if original_mother is None:\n",
    "                print(f\"A sample with the mother ID ({relationship.mother_id}) not found in the VCF. Skipping this variant\")\n",
    "                continue\n",
    "\n",
    "            if original_father.get(\"GT\") == (0, 0) and original_mother.get(\"GT\") == (0, 0):\n",
    "                # Same as above, discussed with Harrison. \n",
    "                # There are cases this could be a valid de novo, \n",
    "                # but since very rare, we're excluding them.\n",
    "                continue\n",
    "\n",
    "            fathers_genotypes[variant.id] = get_samples_genotypes(variant, file_pair.pedigree.fathers)\n",
    "            mothers_genotypes[variant.id] = get_samples_genotypes(variant, file_pair.pedigree.mothers)\n",
    "\n",
    "    suggested_swap = get_best_parent_swap(fathers_genotypes, mothers_genotypes, relationship.father_id, relationship.mother_id)\n",
    "    print(suggested_swap)\n",
    "    print(len(sample_variants_df))\n",
    "    break\n",
    "\n",
    "    \n",
    "    # break\n",
    "\n",
    "    # for ped in peds:\n",
    "    #     relationship = ped.relationships.get(sample, None)\n",
    "    #     if relationship is None:\n",
    "    #         continue\n",
    "\n",
    "    #     # swap the parents of the individual\n",
    "    #     other_father = random.choice(list(ped.fathers - relationship.father_id))\n",
    "    #     other_mother = random.choice(list(ped.mothers - relationship.mother_id))\n",
    "    # break"
   ]
  },
  {
   "cell_type": "code",
   "execution_count": 64,
   "metadata": {},
   "outputs": [],
   "source": [
    "# vcf = VariantFile(vcf_filename)"
   ]
  },
  {
   "cell_type": "code",
   "execution_count": 66,
   "metadata": {},
   "outputs": [],
   "source": [
    "# for idx, row in df.iterrows():\n",
    "#     for variant in vcf.fetch(row[\"chrom\"], row[\"start\"], row[\"end\"]):\n",
    "#         print(\"---\")\n",
    "#     break"
   ]
  }
 ],
 "metadata": {
  "kernelspec": {
   "display_name": ".venv",
   "language": "python",
   "name": "python3"
  },
  "language_info": {
   "codemirror_mode": {
    "name": "ipython",
    "version": 3
   },
   "file_extension": ".py",
   "mimetype": "text/x-python",
   "name": "python",
   "nbconvert_exporter": "python",
   "pygments_lexer": "ipython3",
   "version": "3.10.12"
  }
 },
 "nbformat": 4,
 "nbformat_minor": 2
}
